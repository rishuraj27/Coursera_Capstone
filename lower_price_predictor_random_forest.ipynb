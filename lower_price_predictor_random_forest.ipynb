{
  "nbformat": 4,
  "nbformat_minor": 0,
  "metadata": {
    "kernelspec": {
      "display_name": "Python 3",
      "language": "python",
      "name": "python3"
    },
    "language_info": {
      "codemirror_mode": {
        "name": "ipython",
        "version": 3
      },
      "file_extension": ".py",
      "mimetype": "text/x-python",
      "name": "python",
      "nbconvert_exporter": "python",
      "pygments_lexer": "ipython3",
      "version": "3.7.6"
    },
    "colab": {
      "name": "lower price predictor random forest.ipynb",
      "provenance": [],
      "collapsed_sections": [],
      "toc_visible": true,
      "include_colab_link": true
    }
  },
  "cells": [
    {
      "cell_type": "markdown",
      "metadata": {
        "id": "view-in-github",
        "colab_type": "text"
      },
      "source": [
        "<a href=\"https://colab.research.google.com/github/rishuraj27/Practice/blob/master/lower_price_predictor_random_forest.ipynb\" target=\"_parent\"><img src=\"https://colab.research.google.com/assets/colab-badge.svg\" alt=\"Open In Colab\"/></a>"
      ]
    },
    {
      "cell_type": "code",
      "metadata": {
        "id": "9OfDDJvBioFJ",
        "colab_type": "code",
        "colab": {}
      },
      "source": [
        "import numpy as np\n",
        "import pandas as pd\n",
        "import matplotlib.pyplot as plt\n",
        "from sklearn.ensemble import RandomForestRegressor\n",
        "from sklearn.metrics import mean_squared_error as MSE\n",
        "from sklearn.model_selection import train_test_split\n",
        "from sklearn.preprocessing import StandardScaler\n",
        "from xgboost import XGBRegressor"
      ],
      "execution_count": 1,
      "outputs": []
    },
    {
      "cell_type": "code",
      "metadata": {
        "id": "uw8lQB9RfPcB",
        "colab_type": "code",
        "colab": {
          "base_uri": "https://localhost:8080/",
          "height": 72
        },
        "outputId": "33003bf7-b1ce-4e07-f80f-e1f31a0d7cc9"
      },
      "source": [
        "pip install xgboost"
      ],
      "execution_count": 89,
      "outputs": [
        {
          "output_type": "stream",
          "text": [
            "Requirement already satisfied: xgboost in /usr/local/lib/python3.6/dist-packages (0.90)\n",
            "Requirement already satisfied: scipy in /usr/local/lib/python3.6/dist-packages (from xgboost) (1.4.1)\n",
            "Requirement already satisfied: numpy in /usr/local/lib/python3.6/dist-packages (from xgboost) (1.18.5)\n"
          ],
          "name": "stdout"
        }
      ]
    },
    {
      "cell_type": "code",
      "metadata": {
        "id": "okJujEu4ioF7",
        "colab_type": "code",
        "colab": {}
      },
      "source": [
        "train_df = pd.read_csv(\"/content/Train.csv\")\n",
        "test_df = pd.read_csv(\"/content/Test.csv\")"
      ],
      "execution_count": 48,
      "outputs": []
    },
    {
      "cell_type": "code",
      "metadata": {
        "id": "R3fxZ4m_odVO",
        "colab_type": "code",
        "colab": {}
      },
      "source": [
        "train_df[\"Date\"]=pd.to_datetime(train_df[\"Date\"])\n",
        "test_df[\"Date\"]=pd.to_datetime(test_df[\"Date\"])"
      ],
      "execution_count": 49,
      "outputs": []
    },
    {
      "cell_type": "code",
      "metadata": {
        "id": "AL53yXmJm2al",
        "colab_type": "code",
        "colab": {}
      },
      "source": [
        "#train_df.loc[:,\"year\"]=train_df[\"Date\"].dt.year\n",
        "train_df.loc[:,\"month\"]=train_df[\"Date\"].dt.month\n",
        "train_df.loc[:,\"day\"]=train_df[\"Date\"].dt.day\n",
        "#train_df.loc[:,\"weekday\"]=train_df[\"Date\"].dt.dayofweek\n",
        "#train_df.loc[:,\"quarter\"]=train_df[\"Date\"].dt.quarter\n",
        "#test_df.loc[:,\"year\"]=test_df[\"Date\"].dt.year\n",
        "test_df.loc[:,\"month\"]=test_df[\"Date\"].dt.month\n",
        "test_df.loc[:,\"day\"]=test_df[\"Date\"].dt.day\n",
        "#test_df.loc[:,\"weekday\"]=test_df[\"Date\"].dt.dayofweek\n",
        "#test_df.loc[:,\"quarter\"]=test_df[\"Date\"].dt.quarter"
      ],
      "execution_count": 50,
      "outputs": []
    },
    {
      "cell_type": "code",
      "metadata": {
        "id": "ce57hc2ScQLy",
        "colab_type": "code",
        "colab": {
          "base_uri": "https://localhost:8080/",
          "height": 54
        },
        "outputId": "7c128069-6375-4fad-a139-ee3f0e832763"
      },
      "source": [
        "print(train_df.shape)\n",
        "print(test_df.shape)"
      ],
      "execution_count": 5,
      "outputs": [
        {
          "output_type": "stream",
          "text": [
            "(9798, 11)\n",
            "(5763, 10)\n"
          ],
          "name": "stdout"
        }
      ]
    },
    {
      "cell_type": "code",
      "metadata": {
        "id": "ymvQu6xAVHQ0",
        "colab_type": "code",
        "colab": {
          "base_uri": "https://localhost:8080/",
          "height": 269
        },
        "outputId": "8e5a6ded-0b23-4282-96fb-b270fc22e84a"
      },
      "source": [
        "train_df.corr()"
      ],
      "execution_count": 31,
      "outputs": [
        {
          "output_type": "execute_result",
          "data": {
            "text/html": [
              "<div>\n",
              "<style scoped>\n",
              "    .dataframe tbody tr th:only-of-type {\n",
              "        vertical-align: middle;\n",
              "    }\n",
              "\n",
              "    .dataframe tbody tr th {\n",
              "        vertical-align: top;\n",
              "    }\n",
              "\n",
              "    .dataframe thead th {\n",
              "        text-align: right;\n",
              "    }\n",
              "</style>\n",
              "<table border=\"1\" class=\"dataframe\">\n",
              "  <thead>\n",
              "    <tr style=\"text-align: right;\">\n",
              "      <th></th>\n",
              "      <th>State_of_Country</th>\n",
              "      <th>Market_Category</th>\n",
              "      <th>Product_Category</th>\n",
              "      <th>Grade</th>\n",
              "      <th>Demand</th>\n",
              "      <th>Low_Cap_Price</th>\n",
              "      <th>High_Cap_Price</th>\n",
              "    </tr>\n",
              "  </thead>\n",
              "  <tbody>\n",
              "    <tr>\n",
              "      <th>State_of_Country</th>\n",
              "      <td>1.000000</td>\n",
              "      <td>0.122124</td>\n",
              "      <td>0.205858</td>\n",
              "      <td>-0.038140</td>\n",
              "      <td>-0.002647</td>\n",
              "      <td>0.234901</td>\n",
              "      <td>0.027959</td>\n",
              "    </tr>\n",
              "    <tr>\n",
              "      <th>Market_Category</th>\n",
              "      <td>0.122124</td>\n",
              "      <td>1.000000</td>\n",
              "      <td>-0.030353</td>\n",
              "      <td>-0.034454</td>\n",
              "      <td>-0.049241</td>\n",
              "      <td>0.198524</td>\n",
              "      <td>0.144557</td>\n",
              "    </tr>\n",
              "    <tr>\n",
              "      <th>Product_Category</th>\n",
              "      <td>0.205858</td>\n",
              "      <td>-0.030353</td>\n",
              "      <td>1.000000</td>\n",
              "      <td>-0.056394</td>\n",
              "      <td>0.085874</td>\n",
              "      <td>0.180240</td>\n",
              "      <td>0.114415</td>\n",
              "    </tr>\n",
              "    <tr>\n",
              "      <th>Grade</th>\n",
              "      <td>-0.038140</td>\n",
              "      <td>-0.034454</td>\n",
              "      <td>-0.056394</td>\n",
              "      <td>1.000000</td>\n",
              "      <td>0.047414</td>\n",
              "      <td>-0.079639</td>\n",
              "      <td>0.171083</td>\n",
              "    </tr>\n",
              "    <tr>\n",
              "      <th>Demand</th>\n",
              "      <td>-0.002647</td>\n",
              "      <td>-0.049241</td>\n",
              "      <td>0.085874</td>\n",
              "      <td>0.047414</td>\n",
              "      <td>1.000000</td>\n",
              "      <td>-0.057482</td>\n",
              "      <td>-0.033971</td>\n",
              "    </tr>\n",
              "    <tr>\n",
              "      <th>Low_Cap_Price</th>\n",
              "      <td>0.234901</td>\n",
              "      <td>0.198524</td>\n",
              "      <td>0.180240</td>\n",
              "      <td>-0.079639</td>\n",
              "      <td>-0.057482</td>\n",
              "      <td>1.000000</td>\n",
              "      <td>0.721021</td>\n",
              "    </tr>\n",
              "    <tr>\n",
              "      <th>High_Cap_Price</th>\n",
              "      <td>0.027959</td>\n",
              "      <td>0.144557</td>\n",
              "      <td>0.114415</td>\n",
              "      <td>0.171083</td>\n",
              "      <td>-0.033971</td>\n",
              "      <td>0.721021</td>\n",
              "      <td>1.000000</td>\n",
              "    </tr>\n",
              "  </tbody>\n",
              "</table>\n",
              "</div>"
            ],
            "text/plain": [
              "                  State_of_Country  ...  High_Cap_Price\n",
              "State_of_Country          1.000000  ...        0.027959\n",
              "Market_Category           0.122124  ...        0.144557\n",
              "Product_Category          0.205858  ...        0.114415\n",
              "Grade                    -0.038140  ...        0.171083\n",
              "Demand                   -0.002647  ...       -0.033971\n",
              "Low_Cap_Price             0.234901  ...        0.721021\n",
              "High_Cap_Price            0.027959  ...        1.000000\n",
              "\n",
              "[7 rows x 7 columns]"
            ]
          },
          "metadata": {
            "tags": []
          },
          "execution_count": 31
        }
      ]
    },
    {
      "cell_type": "code",
      "metadata": {
        "id": "-arrfq_jRIKo",
        "colab_type": "code",
        "colab": {
          "base_uri": "https://localhost:8080/",
          "height": 697
        },
        "outputId": "d1b2669a-2dac-4d7d-fe45-8818f9d68aff"
      },
      "source": [
        "print(train_df[\"Product_Category\"].value_counts())\n",
        "print(\"**\")\n",
        "print(test_df[\"Product_Category\"].value_counts())"
      ],
      "execution_count": 52,
      "outputs": [
        {
          "output_type": "stream",
          "text": [
            "0     7167\n",
            "10    1050\n",
            "1      524\n",
            "13     408\n",
            "12     204\n",
            "15     168\n",
            "16      79\n",
            "11      62\n",
            "14      43\n",
            "7       30\n",
            "5       23\n",
            "6       18\n",
            "3        9\n",
            "4        5\n",
            "17       4\n",
            "9        2\n",
            "8        2\n",
            "Name: Product_Category, dtype: int64\n",
            "**\n",
            "0     2826\n",
            "10    1228\n",
            "1      608\n",
            "13     512\n",
            "11     138\n",
            "12     122\n",
            "14      95\n",
            "15      66\n",
            "6       44\n",
            "16      40\n",
            "5       33\n",
            "7       23\n",
            "3       11\n",
            "2        9\n",
            "9        5\n",
            "17       2\n",
            "4        1\n",
            "Name: Product_Category, dtype: int64\n"
          ],
          "name": "stdout"
        }
      ]
    },
    {
      "cell_type": "code",
      "metadata": {
        "id": "MUz2IyEqF4o1",
        "colab_type": "code",
        "colab": {
          "base_uri": "https://localhost:8080/",
          "height": 421
        },
        "outputId": "3e16a9a5-df54-41fc-8dcb-f8da7b2043f6"
      },
      "source": [
        "for i in train_df.columns:\n",
        "  print(i,len(train_df[i].unique()))\n",
        "print(\"**\")\n",
        "for i in test_df.columns:\n",
        "  print(i,len(test_df[i].unique()))"
      ],
      "execution_count": 51,
      "outputs": [
        {
          "output_type": "stream",
          "text": [
            "Item_Id 9798\n",
            "Date 1070\n",
            "State_of_Country 21\n",
            "Market_Category 275\n",
            "Product_Category 17\n",
            "Grade 4\n",
            "Demand 1207\n",
            "Low_Cap_Price 5392\n",
            "High_Cap_Price 6468\n",
            "month 12\n",
            "day 31\n",
            "**\n",
            "Item_Id 5763\n",
            "Date 617\n",
            "State_of_Country 20\n",
            "Market_Category 240\n",
            "Product_Category 17\n",
            "Grade 4\n",
            "Demand 860\n",
            "High_Cap_Price 4781\n",
            "month 12\n",
            "day 31\n"
          ],
          "name": "stdout"
        }
      ]
    },
    {
      "cell_type": "code",
      "metadata": {
        "id": "Tfs4MI8EoxyW",
        "colab_type": "code",
        "colab": {
          "base_uri": "https://localhost:8080/",
          "height": 770
        },
        "outputId": "079243bb-1618-4fe7-ca9c-17b114af0123"
      },
      "source": [
        "print(train_df.info())\n",
        "print(test_df.info())"
      ],
      "execution_count": 54,
      "outputs": [
        {
          "output_type": "stream",
          "text": [
            "<class 'pandas.core.frame.DataFrame'>\n",
            "RangeIndex: 9798 entries, 0 to 9797\n",
            "Data columns (total 13 columns):\n",
            " #   Column            Non-Null Count  Dtype         \n",
            "---  ------            --------------  -----         \n",
            " 0   Item_Id           9798 non-null   object        \n",
            " 1   Date              9798 non-null   datetime64[ns]\n",
            " 2   State_of_Country  9798 non-null   int64         \n",
            " 3   Market_Category   9798 non-null   int64         \n",
            " 4   Product_Category  9798 non-null   int64         \n",
            " 5   Grade             9798 non-null   int64         \n",
            " 6   Demand            9798 non-null   float64       \n",
            " 7   Low_Cap_Price     9798 non-null   int64         \n",
            " 8   High_Cap_Price    9798 non-null   int64         \n",
            " 9   month             9798 non-null   int64         \n",
            " 10  day               9798 non-null   int64         \n",
            " 11  weekday           9798 non-null   int64         \n",
            " 12  quarter           9798 non-null   int64         \n",
            "dtypes: datetime64[ns](1), float64(1), int64(10), object(1)\n",
            "memory usage: 995.2+ KB\n",
            "None\n",
            "<class 'pandas.core.frame.DataFrame'>\n",
            "RangeIndex: 5763 entries, 0 to 5762\n",
            "Data columns (total 12 columns):\n",
            " #   Column            Non-Null Count  Dtype         \n",
            "---  ------            --------------  -----         \n",
            " 0   Item_Id           5763 non-null   object        \n",
            " 1   Date              5763 non-null   datetime64[ns]\n",
            " 2   State_of_Country  5763 non-null   int64         \n",
            " 3   Market_Category   5763 non-null   int64         \n",
            " 4   Product_Category  5763 non-null   int64         \n",
            " 5   Grade             5763 non-null   int64         \n",
            " 6   Demand            5763 non-null   float64       \n",
            " 7   High_Cap_Price    5763 non-null   int64         \n",
            " 8   month             5763 non-null   int64         \n",
            " 9   day               5763 non-null   int64         \n",
            " 10  weekday           5763 non-null   int64         \n",
            " 11  quarter           5763 non-null   int64         \n",
            "dtypes: datetime64[ns](1), float64(1), int64(9), object(1)\n",
            "memory usage: 540.4+ KB\n",
            "None\n"
          ],
          "name": "stdout"
        }
      ]
    },
    {
      "cell_type": "code",
      "metadata": {
        "id": "UZ4Rpq74ioGL",
        "colab_type": "code",
        "colab": {
          "base_uri": "https://localhost:8080/",
          "height": 206
        },
        "outputId": "5635b803-e7a9-46fe-e4f6-198acab85e5c"
      },
      "source": [
        "train_df.head()"
      ],
      "execution_count": 8,
      "outputs": [
        {
          "output_type": "execute_result",
          "data": {
            "text/html": [
              "<div>\n",
              "<style scoped>\n",
              "    .dataframe tbody tr th:only-of-type {\n",
              "        vertical-align: middle;\n",
              "    }\n",
              "\n",
              "    .dataframe tbody tr th {\n",
              "        vertical-align: top;\n",
              "    }\n",
              "\n",
              "    .dataframe thead th {\n",
              "        text-align: right;\n",
              "    }\n",
              "</style>\n",
              "<table border=\"1\" class=\"dataframe\">\n",
              "  <thead>\n",
              "    <tr style=\"text-align: right;\">\n",
              "      <th></th>\n",
              "      <th>Item_Id</th>\n",
              "      <th>Date</th>\n",
              "      <th>State_of_Country</th>\n",
              "      <th>Market_Category</th>\n",
              "      <th>Product_Category</th>\n",
              "      <th>Grade</th>\n",
              "      <th>Demand</th>\n",
              "      <th>Low_Cap_Price</th>\n",
              "      <th>High_Cap_Price</th>\n",
              "      <th>month</th>\n",
              "      <th>day</th>\n",
              "    </tr>\n",
              "  </thead>\n",
              "  <tbody>\n",
              "    <tr>\n",
              "      <th>0</th>\n",
              "      <td>IT_1</td>\n",
              "      <td>2007-07-05</td>\n",
              "      <td>0</td>\n",
              "      <td>0</td>\n",
              "      <td>0</td>\n",
              "      <td>0</td>\n",
              "      <td>0.5</td>\n",
              "      <td>2785</td>\n",
              "      <td>4240</td>\n",
              "      <td>7</td>\n",
              "      <td>5</td>\n",
              "    </tr>\n",
              "    <tr>\n",
              "      <th>1</th>\n",
              "      <td>IT_2</td>\n",
              "      <td>2007-07-05</td>\n",
              "      <td>0</td>\n",
              "      <td>1</td>\n",
              "      <td>0</td>\n",
              "      <td>0</td>\n",
              "      <td>0.7</td>\n",
              "      <td>3574</td>\n",
              "      <td>4756</td>\n",
              "      <td>7</td>\n",
              "      <td>5</td>\n",
              "    </tr>\n",
              "    <tr>\n",
              "      <th>2</th>\n",
              "      <td>IT_3</td>\n",
              "      <td>2007-07-05</td>\n",
              "      <td>0</td>\n",
              "      <td>103</td>\n",
              "      <td>0</td>\n",
              "      <td>1</td>\n",
              "      <td>1.6</td>\n",
              "      <td>5978</td>\n",
              "      <td>9669</td>\n",
              "      <td>7</td>\n",
              "      <td>5</td>\n",
              "    </tr>\n",
              "    <tr>\n",
              "      <th>3</th>\n",
              "      <td>IT_4</td>\n",
              "      <td>2007-07-05</td>\n",
              "      <td>0</td>\n",
              "      <td>103</td>\n",
              "      <td>0</td>\n",
              "      <td>0</td>\n",
              "      <td>0.0</td>\n",
              "      <td>5681</td>\n",
              "      <td>8313</td>\n",
              "      <td>7</td>\n",
              "      <td>5</td>\n",
              "    </tr>\n",
              "    <tr>\n",
              "      <th>4</th>\n",
              "      <td>IT_5</td>\n",
              "      <td>2007-07-05</td>\n",
              "      <td>0</td>\n",
              "      <td>103</td>\n",
              "      <td>0</td>\n",
              "      <td>2</td>\n",
              "      <td>0.0</td>\n",
              "      <td>4924</td>\n",
              "      <td>7257</td>\n",
              "      <td>7</td>\n",
              "      <td>5</td>\n",
              "    </tr>\n",
              "  </tbody>\n",
              "</table>\n",
              "</div>"
            ],
            "text/plain": [
              "  Item_Id       Date  State_of_Country  ...  High_Cap_Price  month  day\n",
              "0    IT_1 2007-07-05                 0  ...            4240      7    5\n",
              "1    IT_2 2007-07-05                 0  ...            4756      7    5\n",
              "2    IT_3 2007-07-05                 0  ...            9669      7    5\n",
              "3    IT_4 2007-07-05                 0  ...            8313      7    5\n",
              "4    IT_5 2007-07-05                 0  ...            7257      7    5\n",
              "\n",
              "[5 rows x 11 columns]"
            ]
          },
          "metadata": {
            "tags": []
          },
          "execution_count": 8
        }
      ]
    },
    {
      "cell_type": "code",
      "metadata": {
        "id": "Qwt0C772oMsr",
        "colab_type": "code",
        "colab": {}
      },
      "source": [
        "numerical= [\"Demand\",\"High_Cap_Price\"] \n",
        "dep = ['Low_Cap_Price']\n",
        "date_=[\"Date\"]\n",
        "integer =['High_Cap_Price']\n",
        "categorical = [\"State_of_Country\",\"Market_Category\",\"Product_Category\",\"Grade\"]\n",
        "cc=[\"Grade\",'month','day']"
      ],
      "execution_count": 53,
      "outputs": []
    },
    {
      "cell_type": "code",
      "metadata": {
        "id": "Hnm6MJ4wuwjE",
        "colab_type": "code",
        "colab": {}
      },
      "source": [
        "# scaler = StandardScaler()\n",
        "# train_df[numerical] = scaler.fit_transform(train_df[numerical])\n",
        "# test_df[numerical]=scaler.fit_transform(test_df[numerical])"
      ],
      "execution_count": 10,
      "outputs": []
    },
    {
      "cell_type": "markdown",
      "metadata": {
        "id": "lBM1II1rioJb",
        "colab_type": "text"
      },
      "source": [
        "## Encoding categorical variable"
      ]
    },
    {
      "cell_type": "code",
      "metadata": {
        "id": "eTbugRmkioJd",
        "colab_type": "code",
        "colab": {}
      },
      "source": [
        "#categorical.remove(\"Employee_ID\")\n",
        "train_df= pd.get_dummies(train_df,columns= cc)\n",
        "test_df= pd.get_dummies(test_df,columns= cc)"
      ],
      "execution_count": 54,
      "outputs": []
    },
    {
      "cell_type": "code",
      "metadata": {
        "scrolled": true,
        "id": "2kn6ZfHtioJs",
        "colab_type": "code",
        "colab": {
          "base_uri": "https://localhost:8080/",
          "height": 54
        },
        "outputId": "48a114cb-3fa4-400e-abad-e8e945b368c9"
      },
      "source": [
        "print(train_df.shape)\n",
        "print(test_df.shape)"
      ],
      "execution_count": 55,
      "outputs": [
        {
          "output_type": "stream",
          "text": [
            "(9798, 55)\n",
            "(5763, 54)\n"
          ],
          "name": "stdout"
        }
      ]
    },
    {
      "cell_type": "markdown",
      "metadata": {
        "id": "z84YLWL3ioKe",
        "colab_type": "text"
      },
      "source": [
        "## dependent and independent variable"
      ]
    },
    {
      "cell_type": "code",
      "metadata": {
        "id": "vK1E4m2wioKh",
        "colab_type": "code",
        "colab": {
          "base_uri": "https://localhost:8080/",
          "height": 54
        },
        "outputId": "dcd59725-8e12-4e26-fba3-ef9d4eb87476"
      },
      "source": [
        "item_id_id=train_df[[\"Item_Id\"]]\n",
        "X=train_df.drop([\"Item_Id\",\"Low_Cap_Price\",\"Date\"],axis=1)\n",
        "y=train_df[[\"Low_Cap_Price\"]]\n",
        "df_test = test_df.drop([\"Item_Id\",\"Date\"],axis=1) \n",
        "#X = scaler.fit_transform(X)\n",
        "print(X.shape)\n",
        "print(df_test.shape)"
      ],
      "execution_count": 56,
      "outputs": [
        {
          "output_type": "stream",
          "text": [
            "(9798, 52)\n",
            "(5763, 52)\n"
          ],
          "name": "stdout"
        }
      ]
    },
    {
      "cell_type": "code",
      "metadata": {
        "id": "BWEfYMJkioKr",
        "colab_type": "code",
        "colab": {}
      },
      "source": [
        "from sklearn.tree import DecisionTreeRegressor,DecisionTreeClassifier\n",
        "from sklearn.model_selection import GridSearchCV\n",
        "from sklearn.ensemble import AdaBoostRegressor, GradientBoostingRegressor,ExtraTreesRegressor,RandomForestClassifier,RandomForestRegressor\n",
        "#from sklearn.linear_model import BayesianRidge\n",
        "#dt = DecisionTreeRegressor(random_state=3)\n",
        "#dt = DecisionTreeClassifier(random_state=3)\n",
        "#dt = RandomForestClassifier(random_state=3)\n",
        "dt = RandomForestRegressor(random_state=3)\n",
        "#dt = XGBRegressor(random_state=3)\n",
        "#dt= ExtraTreesRegressor(max_depth=2,min_samples_leaf=.22,random_state=3)\n",
        "#dt=BayesianRidge(compute_score=True)\n",
        "#abd_reg = AdaBoostRegressor(base_estimator=dt,n_estimators=100)\n",
        "#sgbt=GradientBoostingRegressor(max_depth=1,subsample=0.8,max_features=0.1,n_estimators=250,random_state=3)"
      ],
      "execution_count": 67,
      "outputs": []
    },
    {
      "cell_type": "code",
      "metadata": {
        "id": "q_iCQAFNwrGj",
        "colab_type": "code",
        "colab": {}
      },
      "source": [
        "# param_dt = {\"max_depth\":[1,2,3,8,9,10,15,20],\n",
        "#             \"min_samples_leaf\":[0.2,0.22,.24,.3,.33],\n",
        "#             \"max_features\":[0.6,0.8,1]\n",
        "#             }\n",
        "# grid_dt = GridSearchCV(estimator=dt,param_grid=param_dt,scoring='neg_mean_squared_log_error',cv=10)"
      ],
      "execution_count": 19,
      "outputs": []
    },
    {
      "cell_type": "code",
      "metadata": {
        "id": "ief7tdrX8QkG",
        "colab_type": "code",
        "colab": {}
      },
      "source": [
        "# # Hyperparameter tunning for BR\n",
        "# param_dt = {\"n_iter\":[10,50,100,200,300,400,500],\n",
        "#             # \"tol\":[10**(-x) for x in range(3,7)],\n",
        "#             # \"alpha_1\":[10**(-x) for x in range(4,9)],\n",
        "#             # \"alpha_2\": [10**(-x) for x in range(4,9)],\n",
        "#             # \"lambda_1\" : [10**(-x) for x in range(4,9)],\n",
        "#             # \"lambda_2\": [10**(-x) for x in range(4,9)]\n",
        "#             }\n",
        "# grid_dt = GridSearchCV(estimator=dt,param_grid=param_dt,scoring='neg_root_mean_squared_error',cv=5)"
      ],
      "execution_count": null,
      "outputs": []
    },
    {
      "cell_type": "code",
      "metadata": {
        "id": "k6RdaLuJioMS",
        "colab_type": "code",
        "colab": {}
      },
      "source": [
        "X_train,X_test,y_train,y_test = train_test_split(X,y,test_size=0.2,random_state=3)"
      ],
      "execution_count": 60,
      "outputs": []
    },
    {
      "cell_type": "markdown",
      "metadata": {
        "id": "azJlk8H7UniC",
        "colab_type": "text"
      },
      "source": [
        ""
      ]
    },
    {
      "cell_type": "code",
      "metadata": {
        "id": "ctSvpkO-pLNo",
        "colab_type": "code",
        "colab": {}
      },
      "source": [
        "# import sklearn\n",
        "# sklearn.metrics.SCORERS.keys()"
      ],
      "execution_count": 13,
      "outputs": []
    },
    {
      "cell_type": "code",
      "metadata": {
        "id": "kpVC-OXNioMw",
        "colab_type": "code",
        "colab": {
          "base_uri": "https://localhost:8080/",
          "height": 146
        },
        "outputId": "436f927b-e6b1-4004-94c6-00f0047bcf59"
      },
      "source": [
        "import warnings\n",
        "warnings.filterwarnings(\"ignore\")\n",
        "#y_train = np.round(y_train)\n",
        "# dt.fit(X_train,y_train)\n",
        "#dt.fit(X_train,y_train)\n",
        "dt.fit(X,y)"
      ],
      "execution_count": 68,
      "outputs": [
        {
          "output_type": "execute_result",
          "data": {
            "text/plain": [
              "RandomForestRegressor(bootstrap=True, ccp_alpha=0.0, criterion='mse',\n",
              "                      max_depth=None, max_features='auto', max_leaf_nodes=None,\n",
              "                      max_samples=None, min_impurity_decrease=0.0,\n",
              "                      min_impurity_split=None, min_samples_leaf=1,\n",
              "                      min_samples_split=2, min_weight_fraction_leaf=0.0,\n",
              "                      n_estimators=100, n_jobs=None, oob_score=False,\n",
              "                      random_state=3, verbose=0, warm_start=False)"
            ]
          },
          "metadata": {
            "tags": []
          },
          "execution_count": 68
        }
      ]
    },
    {
      "cell_type": "code",
      "metadata": {
        "id": "F6yD6vjBnBIP",
        "colab_type": "code",
        "colab": {}
      },
      "source": [
        "# grid_dt.fit(X,y)"
      ],
      "execution_count": 110,
      "outputs": []
    },
    {
      "cell_type": "code",
      "metadata": {
        "id": "CeJL3UhSyUtG",
        "colab_type": "code",
        "colab": {}
      },
      "source": [
        "# best_param=grid_dt.best_params_\n",
        "# best_param"
      ],
      "execution_count": 17,
      "outputs": []
    },
    {
      "cell_type": "code",
      "metadata": {
        "id": "hcIkhmYRyZmq",
        "colab_type": "code",
        "colab": {}
      },
      "source": [
        "# b_e = grid_dt.best_estimator_\n",
        "# b_e"
      ],
      "execution_count": 16,
      "outputs": []
    },
    {
      "cell_type": "code",
      "metadata": {
        "id": "OMmGNeC7z1-2",
        "colab_type": "code",
        "colab": {}
      },
      "source": [
        "# grid_dt.best_score_"
      ],
      "execution_count": 18,
      "outputs": []
    },
    {
      "cell_type": "code",
      "metadata": {
        "id": "xQ4ucssMeuxT",
        "colab_type": "code",
        "colab": {}
      },
      "source": [
        "from sklearn.metrics import mean_squared_log_error "
      ],
      "execution_count": 17,
      "outputs": []
    },
    {
      "cell_type": "code",
      "metadata": {
        "id": "5PG1_m46e0EZ",
        "colab_type": "code",
        "colab": {
          "base_uri": "https://localhost:8080/",
          "height": 35
        },
        "outputId": "5c530f3d-51a1-493c-a99b-648b98233eca"
      },
      "source": [
        "score=max(0,(100-mean_squared_log_error(y_test,y_pred)))\n",
        "print(score)"
      ],
      "execution_count": 70,
      "outputs": [
        {
          "output_type": "stream",
          "text": [
            "99.96826045565338\n"
          ],
          "name": "stdout"
        }
      ]
    },
    {
      "cell_type": "code",
      "metadata": {
        "id": "azgnsKUqyqli",
        "colab_type": "code",
        "colab": {
          "base_uri": "https://localhost:8080/",
          "height": 35
        },
        "outputId": "c76f096d-eaca-4736-cf5f-d9954e6865ed"
      },
      "source": [
        "y_pred= dt.predict(X_test)\n",
        "min(y_pred)\n",
        "max(y_pred)"
      ],
      "execution_count": 69,
      "outputs": [
        {
          "output_type": "execute_result",
          "data": {
            "text/plain": [
              "14954.74"
            ]
          },
          "metadata": {
            "tags": []
          },
          "execution_count": 69
        }
      ]
    },
    {
      "cell_type": "code",
      "metadata": {
        "id": "jLcUs_AafVWa",
        "colab_type": "code",
        "colab": {
          "base_uri": "https://localhost:8080/",
          "height": 127
        },
        "outputId": "8adb953d-5da4-457a-fa75-9f6d5eabc207"
      },
      "source": [
        "print(np.max(y_test))\n",
        "print(np.min(y_test))\n",
        "print(np.max(y_pred))\n",
        "print(np.min(y_pred))"
      ],
      "execution_count": 71,
      "outputs": [
        {
          "output_type": "stream",
          "text": [
            "Low_Cap_Price    17580\n",
            "dtype: int64\n",
            "Low_Cap_Price    1\n",
            "dtype: int64\n",
            "14954.74\n",
            "140.85\n"
          ],
          "name": "stdout"
        }
      ]
    },
    {
      "cell_type": "code",
      "metadata": {
        "id": "9B7P33g2zkAY",
        "colab_type": "code",
        "colab": {}
      },
      "source": [
        "# mse_dt=MSE(y_test,y_pred)\n",
        "# rmse_dt = np.sqrt(mse_dt)\n",
        "# rmse_dt"
      ],
      "execution_count": 67,
      "outputs": []
    },
    {
      "cell_type": "code",
      "metadata": {
        "id": "o0M5gNCcQxnX",
        "colab_type": "code",
        "colab": {
          "base_uri": "https://localhost:8080/",
          "height": 311
        },
        "outputId": "1e0ddc1f-8a3e-4e3b-8759-302c80abddf9"
      },
      "source": [
        "train_df.columns"
      ],
      "execution_count": 45,
      "outputs": [
        {
          "output_type": "execute_result",
          "data": {
            "text/plain": [
              "Index(['Item_Id', 'Date', 'State_of_Country', 'Market_Category', 'Demand',\n",
              "       'Low_Cap_Price', 'High_Cap_Price', 'Product_Category_0',\n",
              "       'Product_Category_1', 'Product_Category_3', 'Product_Category_4',\n",
              "       'Product_Category_5', 'Product_Category_6', 'Product_Category_7',\n",
              "       'Product_Category_8', 'Product_Category_9', 'Product_Category_10',\n",
              "       'Product_Category_11', 'Product_Category_12', 'Product_Category_13',\n",
              "       'Product_Category_14', 'Product_Category_15', 'Product_Category_16',\n",
              "       'Product_Category_17', 'Grade_0', 'Grade_1', 'Grade_2', 'Grade_3',\n",
              "       'month_1', 'month_2', 'month_3', 'month_4', 'month_5', 'month_6',\n",
              "       'month_7', 'month_8', 'month_9', 'month_10', 'month_11', 'month_12',\n",
              "       'day_1', 'day_2', 'day_3', 'day_4', 'day_5', 'day_6', 'day_7', 'day_8',\n",
              "       'day_9', 'day_10', 'day_11', 'day_12', 'day_13', 'day_14', 'day_15',\n",
              "       'day_16', 'day_17', 'day_18', 'day_19', 'day_20', 'day_21', 'day_22',\n",
              "       'day_23', 'day_24', 'day_25', 'day_26', 'day_27', 'day_28', 'day_29',\n",
              "       'day_30', 'day_31'],\n",
              "      dtype='object')"
            ]
          },
          "metadata": {
            "tags": []
          },
          "execution_count": 45
        }
      ]
    },
    {
      "cell_type": "code",
      "metadata": {
        "id": "xWTS1d-QiC0t",
        "colab_type": "code",
        "colab": {
          "base_uri": "https://localhost:8080/",
          "height": 293
        },
        "outputId": "9161a474-03bc-4f0f-99bb-2d466ff9bcf7"
      },
      "source": [
        "test_df.columns"
      ],
      "execution_count": 46,
      "outputs": [
        {
          "output_type": "execute_result",
          "data": {
            "text/plain": [
              "Index(['Item_Id', 'Date', 'State_of_Country', 'Market_Category', 'Demand',\n",
              "       'High_Cap_Price', 'Product_Category_0', 'Product_Category_1',\n",
              "       'Product_Category_2', 'Product_Category_3', 'Product_Category_4',\n",
              "       'Product_Category_5', 'Product_Category_6', 'Product_Category_7',\n",
              "       'Product_Category_9', 'Product_Category_10', 'Product_Category_11',\n",
              "       'Product_Category_12', 'Product_Category_13', 'Product_Category_14',\n",
              "       'Product_Category_15', 'Product_Category_16', 'Product_Category_17',\n",
              "       'Grade_0', 'Grade_1', 'Grade_2', 'Grade_3', 'month_1', 'month_2',\n",
              "       'month_3', 'month_4', 'month_5', 'month_6', 'month_7', 'month_8',\n",
              "       'month_9', 'month_10', 'month_11', 'month_12', 'day_1', 'day_2',\n",
              "       'day_3', 'day_4', 'day_5', 'day_6', 'day_7', 'day_8', 'day_9', 'day_10',\n",
              "       'day_11', 'day_12', 'day_13', 'day_14', 'day_15', 'day_16', 'day_17',\n",
              "       'day_18', 'day_19', 'day_20', 'day_21', 'day_22', 'day_23', 'day_24',\n",
              "       'day_25', 'day_26', 'day_27', 'day_28', 'day_29', 'day_30', 'day_31'],\n",
              "      dtype='object')"
            ]
          },
          "metadata": {
            "tags": []
          },
          "execution_count": 46
        }
      ]
    },
    {
      "cell_type": "code",
      "metadata": {
        "id": "5E0XhknQ1UWu",
        "colab_type": "code",
        "colab": {}
      },
      "source": [
        "#test_df_final = test_df.drop([\"Item_Id\",'Date'],axis =1)\n",
        "y_test_pred = dt.predict(df_test)"
      ],
      "execution_count": 72,
      "outputs": []
    },
    {
      "cell_type": "code",
      "metadata": {
        "id": "iktLnYxG2ZF_",
        "colab_type": "code",
        "colab": {}
      },
      "source": [
        "dd = {\"Item_Id\":test_df[\"Item_Id\"], \"Low_Cap_Price\":y_test_pred}\n",
        "result = pd.DataFrame(dd)\n",
        "\n",
        "result.set_index('Item_Id', inplace=True)"
      ],
      "execution_count": 73,
      "outputs": []
    },
    {
      "cell_type": "code",
      "metadata": {
        "id": "zz0lkCkB2yJb",
        "colab_type": "code",
        "colab": {}
      },
      "source": [
        "result.to_csv(\"/content/result_06.csv\")"
      ],
      "execution_count": 74,
      "outputs": []
    },
    {
      "cell_type": "code",
      "metadata": {
        "id": "Ju5Iz9zwphZc",
        "colab_type": "code",
        "colab": {}
      },
      "source": [
        ""
      ],
      "execution_count": null,
      "outputs": []
    },
    {
      "cell_type": "code",
      "metadata": {
        "id": "JvVdZqhc3CN-",
        "colab_type": "code",
        "colab": {
          "base_uri": "https://localhost:8080/",
          "height": 35
        },
        "outputId": "59690205-8f49-49be-f1e2-8ac1f79e33cb"
      },
      "source": [
        "score = 100* max(0, 1-rmse_dt )\n",
        "score"
      ],
      "execution_count": null,
      "outputs": [
        {
          "output_type": "execute_result",
          "data": {
            "text/plain": [
              "80.7505357914807"
            ]
          },
          "metadata": {
            "tags": []
          },
          "execution_count": 143
        }
      ]
    },
    {
      "cell_type": "code",
      "metadata": {
        "id": "8Rn8gVXa4dQR",
        "colab_type": "code",
        "colab": {}
      },
      "source": [
        "# # Neural Net\n",
        "# import tensorflow as tf\n",
        "# # GRADED FUNCTION: train_mnist\n",
        "# def train_mnist():\n",
        "#     # Please write your code only where you are indicated.\n",
        "#     # please do not remove # model fitting inline comments.\n",
        "\n",
        "#     # YOUR CODE SHOULD START HERE\n",
        "#     class myCallback(tf.keras.callbacks.Callback):\n",
        "#         def on_epoch_end(self,epoch,log={}):\n",
        "#             if log.get(\"acc\")>0.99:\n",
        "#                 print(\"/n Reached 99% accuracy so cancelling training/n\")\n",
        "#                 self.model.stop_training = True\n",
        "#     # YOUR CODE SHOULD END HERE\n",
        "    \n",
        "#     callbacks = myCallback()\n",
        "#     mnist = tf.keras.datasets.mnist\n",
        "\n",
        "#     (x_train, y_train),(x_test, y_test) = mnist.load_data(path=path)\n",
        "#     # YOUR CODE SHOULD START HERE\n",
        "#     x_train = x_train/255.0\n",
        "#     x_test = x_test/255.0\n",
        "#     # YOUR CODE SHOULD END HERE\n",
        "#     model = tf.keras.models.Sequential([\n",
        "#         # YOUR CODE SHOULD START HERE\n",
        "#     tf.keras.layers.Flatten(),\n",
        "#     tf.keras.layers.Dense(512,activation = tf.nn.relu),\n",
        "#     tf.keras.layers.Dense(10, activation = tf.nn.softmax)\n",
        "#         # YOUR CODE SHOULD END HERE\n",
        "#     ])\n",
        "\n",
        "#     model.compile(optimizer='adam',\n",
        "#                   loss='sparse_categorical_crossentropy',\n",
        "#                   metrics=['accuracy'])\n",
        "    \n",
        "#     # model fitting\n",
        "#     history = model.fit(# YOUR CODE SHOULD START HERE\n",
        "#         x_train,y_train,epochs=10,callbacks =[callbacks]\n",
        "#               # YOUR CODE SHOULD END HERE\n",
        "#     )\n",
        "#     # model fitting\n",
        "#     return history.epoch, history.history['acc'][-1]\n",
        "\n",
        "\n",
        "# # GRADED FUNCTION: house_model\n",
        "# def house_model(y_new):\n",
        "#     xs = np.array([float(x) for x in range(1,10)])\n",
        "#     ys = np.array([0.5+0.5*i for i in range(1,10)])\n",
        "#     model = tf.keras.Sequential([keras.layers.Dense(units=1, input_shape=[1])])\n",
        "#     model.compile(optimizer = \"sgd\", loss = \"mean_squared_error\")\n",
        "#     model.fit(xs,ys,epochs=500)\n",
        "#     return model.predict(y_new)[0]"
      ],
      "execution_count": 29,
      "outputs": []
    },
    {
      "cell_type": "code",
      "metadata": {
        "id": "BoTY8dwqPiHQ",
        "colab_type": "code",
        "colab": {}
      },
      "source": [
        "# # GRADED FUNCTION: train_mnist_conv\n",
        "# def train_mnist_conv():\n",
        "#     # Please write your code only where you are indicated.\n",
        "#     # please do not remove model fitting inline comments.\n",
        "\n",
        "#     # YOUR CODE STARTS HERE\n",
        "#     class myCallback(tf.keras.callbacks.Callback):\n",
        "#         def on_epoch_end(self,epoch,log={}):\n",
        "#             if log.get(\"acc\") >0.998:\n",
        "#                 print(\"\\n Reached 99.8% acuracy so cancelling trainig!\")\n",
        "#                 self.model.stop_training= True\n",
        "                \n",
        "#     callbacks = myCallback()\n",
        "#     # YOUR CODE ENDS HERE\n",
        "\n",
        "#     mnist = tf.keras.datasets.mnist\n",
        "#     (training_images, training_labels), (test_images, test_labels) = mnist.load_data(path=path)\n",
        "#     # YOUR CODE STARTS HERE\n",
        "#     training_images= training_images.reshape(60000,28,28,1)\n",
        "#     test_images = test_images.reshape(10000,28,28,1)\n",
        "#     training_images = training_images/255.0\n",
        "#     test_images = test_images/255.0\n",
        "#     # YOUR CODE ENDS HERE\n",
        "\n",
        "#     model = tf.keras.models.Sequential([\n",
        "#             # YOUR CODE STARTS HERE\n",
        "#         tf.keras.layers.Conv2D(64,(3,3),activation =\"relu\",input_shape=(28,28,1)),\n",
        "#         tf.keras.layers.MaxPooling2D(2,2),\n",
        "#         tf.keras.layers.Flatten(),\n",
        "#         tf.keras.layers.Dense(128,activation=\"relu\"),\n",
        "#         tf.keras.layers.Dense(10,activation=\"softmax\")\n",
        "#             # YOUR CODE ENDS HERE\n",
        "#     ])\n",
        "\n",
        "#     model.compile(optimizer='adam', loss='sparse_categorical_crossentropy', metrics=['accuracy'])\n",
        "#     # model fitting\n",
        "#     history = model.fit(\n",
        "#         # YOUR CODE STARTS HERE\n",
        "#         training_images,training_labels,epochs=10,callbacks =[callbacks]\n",
        "#         # YOUR CODE ENDS HERE\n",
        "#     )\n",
        "#     # model fitting\n",
        "#     return history.epoch, history.history['acc'][-1]\n",
        "\n"
      ],
      "execution_count": 65,
      "outputs": []
    },
    {
      "cell_type": "code",
      "metadata": {
        "id": "eKH_ptFTTaCQ",
        "colab_type": "code",
        "colab": {}
      },
      "source": [
        "import tensorflow as tf"
      ],
      "execution_count": 66,
      "outputs": []
    },
    {
      "cell_type": "code",
      "metadata": {
        "id": "UqteL2KRTdrJ",
        "colab_type": "code",
        "colab": {}
      },
      "source": [
        ""
      ],
      "execution_count": null,
      "outputs": []
    }
  ]
}