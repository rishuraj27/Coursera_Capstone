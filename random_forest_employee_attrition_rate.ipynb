{
  "nbformat": 4,
  "nbformat_minor": 0,
  "metadata": {
    "kernelspec": {
      "display_name": "Python 3",
      "language": "python",
      "name": "python3"
    },
    "language_info": {
      "codemirror_mode": {
        "name": "ipython",
        "version": 3
      },
      "file_extension": ".py",
      "mimetype": "text/x-python",
      "name": "python",
      "nbconvert_exporter": "python",
      "pygments_lexer": "ipython3",
      "version": "3.7.6"
    },
    "colab": {
      "name": "random forest employee attrition rate.ipynb",
      "provenance": [],
      "collapsed_sections": [
        "axEqcKFnioJ6"
      ],
      "include_colab_link": true
    }
  },
  "cells": [
    {
      "cell_type": "markdown",
      "metadata": {
        "id": "view-in-github",
        "colab_type": "text"
      },
      "source": [
        "<a href=\"https://colab.research.google.com/github/rishuraj27/Coursera_Capstone/blob/master/random_forest_employee_attrition_rate.ipynb\" target=\"_parent\"><img src=\"https://colab.research.google.com/assets/colab-badge.svg\" alt=\"Open In Colab\"/></a>"
      ]
    },
    {
      "cell_type": "code",
      "metadata": {
        "id": "9OfDDJvBioFJ",
        "colab_type": "code",
        "colab": {}
      },
      "source": [
        "import numpy as np\n",
        "import pandas as pd\n",
        "import os\n",
        "import matplotlib.pyplot as plt\n",
        "from sklearn.tree import DecisionTreeRegressor\n",
        "from sklearn.metrics import mean_squared_error as MSE\n",
        "from sklearn.model_selection import train_test_split"
      ],
      "execution_count": 3,
      "outputs": []
    },
    {
      "cell_type": "code",
      "metadata": {
        "id": "pSlIOIycioFi",
        "colab_type": "code",
        "colab": {}
      },
      "source": [
        "#os.chdir(r\"C:\\Users\\Rishu Raj\\Desktop\\HE\\Dataset\")"
      ],
      "execution_count": null,
      "outputs": []
    },
    {
      "cell_type": "code",
      "metadata": {
        "id": "okJujEu4ioF7",
        "colab_type": "code",
        "colab": {}
      },
      "source": [
        "train_df = pd.read_csv(\"/content/Train.csv\")"
      ],
      "execution_count": 4,
      "outputs": []
    },
    {
      "cell_type": "code",
      "metadata": {
        "id": "UZ4Rpq74ioGL",
        "colab_type": "code",
        "colab": {
          "base_uri": "https://localhost:8080/",
          "height": 261
        },
        "outputId": "6b2a1880-d23d-4173-c179-bb5f4fd407cb"
      },
      "source": [
        "train_df.head()"
      ],
      "execution_count": 5,
      "outputs": [
        {
          "output_type": "execute_result",
          "data": {
            "text/html": [
              "<div>\n",
              "<style scoped>\n",
              "    .dataframe tbody tr th:only-of-type {\n",
              "        vertical-align: middle;\n",
              "    }\n",
              "\n",
              "    .dataframe tbody tr th {\n",
              "        vertical-align: top;\n",
              "    }\n",
              "\n",
              "    .dataframe thead th {\n",
              "        text-align: right;\n",
              "    }\n",
              "</style>\n",
              "<table border=\"1\" class=\"dataframe\">\n",
              "  <thead>\n",
              "    <tr style=\"text-align: right;\">\n",
              "      <th></th>\n",
              "      <th>Employee_ID</th>\n",
              "      <th>Gender</th>\n",
              "      <th>Age</th>\n",
              "      <th>Education_Level</th>\n",
              "      <th>Relationship_Status</th>\n",
              "      <th>Hometown</th>\n",
              "      <th>Unit</th>\n",
              "      <th>Decision_skill_possess</th>\n",
              "      <th>Time_of_service</th>\n",
              "      <th>Time_since_promotion</th>\n",
              "      <th>growth_rate</th>\n",
              "      <th>Travel_Rate</th>\n",
              "      <th>Post_Level</th>\n",
              "      <th>Pay_Scale</th>\n",
              "      <th>Compensation_and_Benefits</th>\n",
              "      <th>Work_Life_balance</th>\n",
              "      <th>VAR1</th>\n",
              "      <th>VAR2</th>\n",
              "      <th>VAR3</th>\n",
              "      <th>VAR4</th>\n",
              "      <th>VAR5</th>\n",
              "      <th>VAR6</th>\n",
              "      <th>VAR7</th>\n",
              "      <th>Attrition_rate</th>\n",
              "    </tr>\n",
              "  </thead>\n",
              "  <tbody>\n",
              "    <tr>\n",
              "      <th>0</th>\n",
              "      <td>EID_23371</td>\n",
              "      <td>F</td>\n",
              "      <td>42.0</td>\n",
              "      <td>4</td>\n",
              "      <td>Married</td>\n",
              "      <td>Franklin</td>\n",
              "      <td>IT</td>\n",
              "      <td>Conceptual</td>\n",
              "      <td>4.0</td>\n",
              "      <td>4</td>\n",
              "      <td>33</td>\n",
              "      <td>1</td>\n",
              "      <td>1</td>\n",
              "      <td>7.0</td>\n",
              "      <td>type2</td>\n",
              "      <td>3.0</td>\n",
              "      <td>4</td>\n",
              "      <td>0.7516</td>\n",
              "      <td>1.8688</td>\n",
              "      <td>2.0</td>\n",
              "      <td>4</td>\n",
              "      <td>5</td>\n",
              "      <td>3</td>\n",
              "      <td>0.1841</td>\n",
              "    </tr>\n",
              "    <tr>\n",
              "      <th>1</th>\n",
              "      <td>EID_18000</td>\n",
              "      <td>M</td>\n",
              "      <td>24.0</td>\n",
              "      <td>3</td>\n",
              "      <td>Single</td>\n",
              "      <td>Springfield</td>\n",
              "      <td>Logistics</td>\n",
              "      <td>Analytical</td>\n",
              "      <td>5.0</td>\n",
              "      <td>4</td>\n",
              "      <td>36</td>\n",
              "      <td>0</td>\n",
              "      <td>3</td>\n",
              "      <td>6.0</td>\n",
              "      <td>type2</td>\n",
              "      <td>4.0</td>\n",
              "      <td>3</td>\n",
              "      <td>-0.9612</td>\n",
              "      <td>-0.4537</td>\n",
              "      <td>2.0</td>\n",
              "      <td>3</td>\n",
              "      <td>5</td>\n",
              "      <td>3</td>\n",
              "      <td>0.0670</td>\n",
              "    </tr>\n",
              "    <tr>\n",
              "      <th>2</th>\n",
              "      <td>EID_3891</td>\n",
              "      <td>F</td>\n",
              "      <td>58.0</td>\n",
              "      <td>3</td>\n",
              "      <td>Married</td>\n",
              "      <td>Clinton</td>\n",
              "      <td>Quality</td>\n",
              "      <td>Conceptual</td>\n",
              "      <td>27.0</td>\n",
              "      <td>3</td>\n",
              "      <td>51</td>\n",
              "      <td>0</td>\n",
              "      <td>2</td>\n",
              "      <td>8.0</td>\n",
              "      <td>type2</td>\n",
              "      <td>1.0</td>\n",
              "      <td>4</td>\n",
              "      <td>-0.9612</td>\n",
              "      <td>-0.4537</td>\n",
              "      <td>3.0</td>\n",
              "      <td>3</td>\n",
              "      <td>8</td>\n",
              "      <td>3</td>\n",
              "      <td>0.0851</td>\n",
              "    </tr>\n",
              "    <tr>\n",
              "      <th>3</th>\n",
              "      <td>EID_17492</td>\n",
              "      <td>F</td>\n",
              "      <td>26.0</td>\n",
              "      <td>3</td>\n",
              "      <td>Single</td>\n",
              "      <td>Lebanon</td>\n",
              "      <td>Human Resource Management</td>\n",
              "      <td>Behavioral</td>\n",
              "      <td>4.0</td>\n",
              "      <td>3</td>\n",
              "      <td>56</td>\n",
              "      <td>1</td>\n",
              "      <td>3</td>\n",
              "      <td>8.0</td>\n",
              "      <td>type2</td>\n",
              "      <td>1.0</td>\n",
              "      <td>3</td>\n",
              "      <td>-1.8176</td>\n",
              "      <td>-0.4537</td>\n",
              "      <td>NaN</td>\n",
              "      <td>3</td>\n",
              "      <td>7</td>\n",
              "      <td>3</td>\n",
              "      <td>0.0668</td>\n",
              "    </tr>\n",
              "    <tr>\n",
              "      <th>4</th>\n",
              "      <td>EID_22534</td>\n",
              "      <td>F</td>\n",
              "      <td>31.0</td>\n",
              "      <td>1</td>\n",
              "      <td>Married</td>\n",
              "      <td>Springfield</td>\n",
              "      <td>Logistics</td>\n",
              "      <td>Conceptual</td>\n",
              "      <td>5.0</td>\n",
              "      <td>4</td>\n",
              "      <td>62</td>\n",
              "      <td>1</td>\n",
              "      <td>3</td>\n",
              "      <td>2.0</td>\n",
              "      <td>type3</td>\n",
              "      <td>3.0</td>\n",
              "      <td>1</td>\n",
              "      <td>0.7516</td>\n",
              "      <td>-0.4537</td>\n",
              "      <td>2.0</td>\n",
              "      <td>2</td>\n",
              "      <td>8</td>\n",
              "      <td>2</td>\n",
              "      <td>0.1827</td>\n",
              "    </tr>\n",
              "  </tbody>\n",
              "</table>\n",
              "</div>"
            ],
            "text/plain": [
              "  Employee_ID Gender   Age  Education_Level  ... VAR5 VAR6 VAR7 Attrition_rate\n",
              "0   EID_23371      F  42.0                4  ...    4    5    3         0.1841\n",
              "1   EID_18000      M  24.0                3  ...    3    5    3         0.0670\n",
              "2    EID_3891      F  58.0                3  ...    3    8    3         0.0851\n",
              "3   EID_17492      F  26.0                3  ...    3    7    3         0.0668\n",
              "4   EID_22534      F  31.0                1  ...    2    8    2         0.1827\n",
              "\n",
              "[5 rows x 24 columns]"
            ]
          },
          "metadata": {
            "tags": []
          },
          "execution_count": 5
        }
      ]
    },
    {
      "cell_type": "code",
      "metadata": {
        "id": "Qwt0C772oMsr",
        "colab_type": "code",
        "colab": {}
      },
      "source": [
        "numerical= ['Age',  'Time_of_service', 'Time_since_promotion', 'growth_rate',  \n",
        "        'VAR1', 'VAR2', 'VAR3', 'VAR4', 'VAR5', 'VAR6','VAR7'] \n",
        "dep = ['Attrition_rate']\n",
        "integer =['Time_since_promotion', 'growth_rate','VAR1', 'VAR5', 'VAR6','VAR7']\n",
        "categorical = ['Employee_ID', 'Gender','Education_Level','Relationship_Status', \n",
        "              'Hometown','Unit', 'Decision_skill_possess','Travel_Rate',\n",
        "       'Post_Level', 'Pay_Scale','Work_Life_balance','Compensation_and_Benefits']"
      ],
      "execution_count": 27,
      "outputs": []
    },
    {
      "cell_type": "code",
      "metadata": {
        "id": "hhgXtycsioGg",
        "colab_type": "code",
        "colab": {
          "base_uri": "https://localhost:8080/",
          "height": 586
        },
        "outputId": "67b8bec4-6089-4a2b-f2f8-b7f2a0e1cc86"
      },
      "source": [
        "data.info()"
      ],
      "execution_count": null,
      "outputs": [
        {
          "output_type": "stream",
          "text": [
            "<class 'pandas.core.frame.DataFrame'>\n",
            "RangeIndex: 7000 entries, 0 to 6999\n",
            "Data columns (total 24 columns):\n",
            " #   Column                     Non-Null Count  Dtype  \n",
            "---  ------                     --------------  -----  \n",
            " 0   Employee_ID                7000 non-null   object \n",
            " 1   Gender                     7000 non-null   object \n",
            " 2   Age                        6588 non-null   float64\n",
            " 3   Education_Level            7000 non-null   int64  \n",
            " 4   Relationship_Status        7000 non-null   object \n",
            " 5   Hometown                   7000 non-null   object \n",
            " 6   Unit                       7000 non-null   object \n",
            " 7   Decision_skill_possess     7000 non-null   object \n",
            " 8   Time_of_service            6856 non-null   float64\n",
            " 9   Time_since_promotion       7000 non-null   int64  \n",
            " 10  growth_rate                7000 non-null   int64  \n",
            " 11  Travel_Rate                7000 non-null   int64  \n",
            " 12  Post_Level                 7000 non-null   int64  \n",
            " 13  Pay_Scale                  6991 non-null   float64\n",
            " 14  Compensation_and_Benefits  7000 non-null   object \n",
            " 15  Work_Life_balance          6989 non-null   float64\n",
            " 16  VAR1                       7000 non-null   int64  \n",
            " 17  VAR2                       6423 non-null   float64\n",
            " 18  VAR3                       7000 non-null   float64\n",
            " 19  VAR4                       6344 non-null   float64\n",
            " 20  VAR5                       7000 non-null   int64  \n",
            " 21  VAR6                       7000 non-null   int64  \n",
            " 22  VAR7                       7000 non-null   int64  \n",
            " 23  Attrition_rate             7000 non-null   float64\n",
            "dtypes: float64(8), int64(9), object(7)\n",
            "memory usage: 1.3+ MB\n"
          ],
          "name": "stdout"
        }
      ]
    },
    {
      "cell_type": "code",
      "metadata": {
        "id": "jlIka1sLioGw",
        "colab_type": "code",
        "colab": {
          "base_uri": "https://localhost:8080/",
          "height": 320
        },
        "outputId": "57fd7529-5c23-482d-e5ae-c4af836de518"
      },
      "source": [
        "data.describe()"
      ],
      "execution_count": null,
      "outputs": [
        {
          "output_type": "execute_result",
          "data": {
            "text/html": [
              "<div>\n",
              "<style scoped>\n",
              "    .dataframe tbody tr th:only-of-type {\n",
              "        vertical-align: middle;\n",
              "    }\n",
              "\n",
              "    .dataframe tbody tr th {\n",
              "        vertical-align: top;\n",
              "    }\n",
              "\n",
              "    .dataframe thead th {\n",
              "        text-align: right;\n",
              "    }\n",
              "</style>\n",
              "<table border=\"1\" class=\"dataframe\">\n",
              "  <thead>\n",
              "    <tr style=\"text-align: right;\">\n",
              "      <th></th>\n",
              "      <th>Age</th>\n",
              "      <th>Education_Level</th>\n",
              "      <th>Time_of_service</th>\n",
              "      <th>Time_since_promotion</th>\n",
              "      <th>growth_rate</th>\n",
              "      <th>Travel_Rate</th>\n",
              "      <th>Post_Level</th>\n",
              "      <th>Pay_Scale</th>\n",
              "      <th>Work_Life_balance</th>\n",
              "      <th>VAR1</th>\n",
              "      <th>VAR2</th>\n",
              "      <th>VAR3</th>\n",
              "      <th>VAR4</th>\n",
              "      <th>VAR5</th>\n",
              "      <th>VAR6</th>\n",
              "      <th>VAR7</th>\n",
              "      <th>Attrition_rate</th>\n",
              "    </tr>\n",
              "  </thead>\n",
              "  <tbody>\n",
              "    <tr>\n",
              "      <th>count</th>\n",
              "      <td>6588.000000</td>\n",
              "      <td>7000.000000</td>\n",
              "      <td>6856.000000</td>\n",
              "      <td>7000.000000</td>\n",
              "      <td>7000.000000</td>\n",
              "      <td>7000.000000</td>\n",
              "      <td>7000.000000</td>\n",
              "      <td>6991.000000</td>\n",
              "      <td>6989.000000</td>\n",
              "      <td>7000.000000</td>\n",
              "      <td>6423.000000</td>\n",
              "      <td>7000.000000</td>\n",
              "      <td>6344.000000</td>\n",
              "      <td>7000.000000</td>\n",
              "      <td>7000.000000</td>\n",
              "      <td>7000.000000</td>\n",
              "      <td>7000.000000</td>\n",
              "    </tr>\n",
              "    <tr>\n",
              "      <th>mean</th>\n",
              "      <td>39.622799</td>\n",
              "      <td>3.187857</td>\n",
              "      <td>13.385064</td>\n",
              "      <td>2.367143</td>\n",
              "      <td>47.064286</td>\n",
              "      <td>0.817857</td>\n",
              "      <td>2.798000</td>\n",
              "      <td>6.006294</td>\n",
              "      <td>2.387895</td>\n",
              "      <td>3.098571</td>\n",
              "      <td>-0.008126</td>\n",
              "      <td>-0.013606</td>\n",
              "      <td>1.891078</td>\n",
              "      <td>2.834143</td>\n",
              "      <td>7.101286</td>\n",
              "      <td>3.257000</td>\n",
              "      <td>0.189376</td>\n",
              "    </tr>\n",
              "    <tr>\n",
              "      <th>std</th>\n",
              "      <td>13.606920</td>\n",
              "      <td>1.065102</td>\n",
              "      <td>10.364188</td>\n",
              "      <td>1.149395</td>\n",
              "      <td>15.761406</td>\n",
              "      <td>0.648205</td>\n",
              "      <td>1.163721</td>\n",
              "      <td>2.058435</td>\n",
              "      <td>1.122786</td>\n",
              "      <td>0.836377</td>\n",
              "      <td>0.989850</td>\n",
              "      <td>0.986933</td>\n",
              "      <td>0.529403</td>\n",
              "      <td>0.938945</td>\n",
              "      <td>1.164262</td>\n",
              "      <td>0.925319</td>\n",
              "      <td>0.185753</td>\n",
              "    </tr>\n",
              "    <tr>\n",
              "      <th>min</th>\n",
              "      <td>19.000000</td>\n",
              "      <td>1.000000</td>\n",
              "      <td>0.000000</td>\n",
              "      <td>0.000000</td>\n",
              "      <td>20.000000</td>\n",
              "      <td>0.000000</td>\n",
              "      <td>1.000000</td>\n",
              "      <td>1.000000</td>\n",
              "      <td>1.000000</td>\n",
              "      <td>1.000000</td>\n",
              "      <td>-1.817600</td>\n",
              "      <td>-2.776200</td>\n",
              "      <td>1.000000</td>\n",
              "      <td>1.000000</td>\n",
              "      <td>5.000000</td>\n",
              "      <td>1.000000</td>\n",
              "      <td>0.000000</td>\n",
              "    </tr>\n",
              "    <tr>\n",
              "      <th>25%</th>\n",
              "      <td>27.000000</td>\n",
              "      <td>3.000000</td>\n",
              "      <td>5.000000</td>\n",
              "      <td>1.000000</td>\n",
              "      <td>33.000000</td>\n",
              "      <td>0.000000</td>\n",
              "      <td>2.000000</td>\n",
              "      <td>5.000000</td>\n",
              "      <td>1.000000</td>\n",
              "      <td>3.000000</td>\n",
              "      <td>-0.961200</td>\n",
              "      <td>-0.453700</td>\n",
              "      <td>2.000000</td>\n",
              "      <td>2.000000</td>\n",
              "      <td>6.000000</td>\n",
              "      <td>3.000000</td>\n",
              "      <td>0.070400</td>\n",
              "    </tr>\n",
              "    <tr>\n",
              "      <th>50%</th>\n",
              "      <td>37.000000</td>\n",
              "      <td>3.000000</td>\n",
              "      <td>10.000000</td>\n",
              "      <td>2.000000</td>\n",
              "      <td>47.000000</td>\n",
              "      <td>1.000000</td>\n",
              "      <td>3.000000</td>\n",
              "      <td>6.000000</td>\n",
              "      <td>2.000000</td>\n",
              "      <td>3.000000</td>\n",
              "      <td>-0.104800</td>\n",
              "      <td>-0.453700</td>\n",
              "      <td>2.000000</td>\n",
              "      <td>3.000000</td>\n",
              "      <td>7.000000</td>\n",
              "      <td>3.000000</td>\n",
              "      <td>0.142650</td>\n",
              "    </tr>\n",
              "    <tr>\n",
              "      <th>75%</th>\n",
              "      <td>52.000000</td>\n",
              "      <td>4.000000</td>\n",
              "      <td>21.000000</td>\n",
              "      <td>3.000000</td>\n",
              "      <td>61.000000</td>\n",
              "      <td>1.000000</td>\n",
              "      <td>3.000000</td>\n",
              "      <td>8.000000</td>\n",
              "      <td>3.000000</td>\n",
              "      <td>3.000000</td>\n",
              "      <td>0.751600</td>\n",
              "      <td>0.707500</td>\n",
              "      <td>2.000000</td>\n",
              "      <td>3.000000</td>\n",
              "      <td>8.000000</td>\n",
              "      <td>4.000000</td>\n",
              "      <td>0.235000</td>\n",
              "    </tr>\n",
              "    <tr>\n",
              "      <th>max</th>\n",
              "      <td>65.000000</td>\n",
              "      <td>5.000000</td>\n",
              "      <td>43.000000</td>\n",
              "      <td>4.000000</td>\n",
              "      <td>74.000000</td>\n",
              "      <td>2.000000</td>\n",
              "      <td>5.000000</td>\n",
              "      <td>10.000000</td>\n",
              "      <td>5.000000</td>\n",
              "      <td>5.000000</td>\n",
              "      <td>1.608100</td>\n",
              "      <td>1.868800</td>\n",
              "      <td>3.000000</td>\n",
              "      <td>5.000000</td>\n",
              "      <td>9.000000</td>\n",
              "      <td>5.000000</td>\n",
              "      <td>0.995900</td>\n",
              "    </tr>\n",
              "  </tbody>\n",
              "</table>\n",
              "</div>"
            ],
            "text/plain": [
              "               Age  Education_Level  ...         VAR7  Attrition_rate\n",
              "count  6588.000000      7000.000000  ...  7000.000000     7000.000000\n",
              "mean     39.622799         3.187857  ...     3.257000        0.189376\n",
              "std      13.606920         1.065102  ...     0.925319        0.185753\n",
              "min      19.000000         1.000000  ...     1.000000        0.000000\n",
              "25%      27.000000         3.000000  ...     3.000000        0.070400\n",
              "50%      37.000000         3.000000  ...     3.000000        0.142650\n",
              "75%      52.000000         4.000000  ...     4.000000        0.235000\n",
              "max      65.000000         5.000000  ...     5.000000        0.995900\n",
              "\n",
              "[8 rows x 17 columns]"
            ]
          },
          "metadata": {
            "tags": []
          },
          "execution_count": 6
        }
      ]
    },
    {
      "cell_type": "markdown",
      "metadata": {
        "id": "etbRnvZuioHB",
        "colab_type": "text"
      },
      "source": [
        "## Missing treatment"
      ]
    },
    {
      "cell_type": "code",
      "metadata": {
        "id": "QlVhHG11ioHE",
        "colab_type": "code",
        "colab": {}
      },
      "source": [
        "# column_types =dict(data.dtypes)"
      ],
      "execution_count": null,
      "outputs": []
    },
    {
      "cell_type": "code",
      "metadata": {
        "id": "ZyPSxrYaioHQ",
        "colab_type": "code",
        "colab": {}
      },
      "source": [
        "# numerical=[]\n",
        "# categorical=[]\n",
        "# integer=[]\n",
        "# for key,value in column_types.items():\n",
        "    \n",
        "#     if str(value)[0:3] in ['flo', 'int']:\n",
        "#         numerical.append(key)\n",
        "#         if str(value)[:3] in ['int']:\n",
        "#             integer.append(key)\n",
        "#     else:\n",
        "#         categorical.append(key)"
      ],
      "execution_count": null,
      "outputs": []
    },
    {
      "cell_type": "code",
      "metadata": {
        "id": "LA5FV_5hioHa",
        "colab_type": "code",
        "colab": {
          "base_uri": "https://localhost:8080/",
          "height": 237
        },
        "outputId": "afe12106-c988-4cff-8945-39efffd15ced"
      },
      "source": [
        "data[numerical].isnull().sum()"
      ],
      "execution_count": null,
      "outputs": [
        {
          "output_type": "execute_result",
          "data": {
            "text/plain": [
              "Age                     412\n",
              "Time_of_service         144\n",
              "Time_since_promotion      0\n",
              "growth_rate               0\n",
              "VAR1                      0\n",
              "VAR2                    577\n",
              "VAR3                      0\n",
              "VAR4                    656\n",
              "VAR5                      0\n",
              "VAR6                      0\n",
              "VAR7                      0\n",
              "dtype: int64"
            ]
          },
          "metadata": {
            "tags": []
          },
          "execution_count": 14
        }
      ]
    },
    {
      "cell_type": "code",
      "metadata": {
        "id": "b7tuTYmgioHp",
        "colab_type": "code",
        "colab": {
          "base_uri": "https://localhost:8080/",
          "height": 256
        },
        "outputId": "2dc4334c-ade4-45a3-b841-4932a20236c8"
      },
      "source": [
        "data[categorical].isnull().sum()"
      ],
      "execution_count": null,
      "outputs": [
        {
          "output_type": "execute_result",
          "data": {
            "text/plain": [
              "Employee_ID                   0\n",
              "Gender                        0\n",
              "Education_Level               0\n",
              "Relationship_Status           0\n",
              "Hometown                      0\n",
              "Unit                          0\n",
              "Decision_skill_possess        0\n",
              "Travel_Rate                   0\n",
              "Post_Level                    0\n",
              "Pay_Scale                     9\n",
              "Work_Life_balance            11\n",
              "Compensation_and_Benefits     0\n",
              "dtype: int64"
            ]
          },
          "metadata": {
            "tags": []
          },
          "execution_count": 15
        }
      ]
    },
    {
      "cell_type": "code",
      "metadata": {
        "id": "ASwK76gMioH2",
        "colab_type": "code",
        "colab": {}
      },
      "source": [
        "from sklearn.impute import KNNImputer\n",
        "imputer = KNNImputer(n_neighbors=5,weights='distance')\n",
        "train_df[numerical] = pd.DataFrame(imputer.fit_transform(train_df[numerical]),columns=numerical)"
      ],
      "execution_count": 8,
      "outputs": []
    },
    {
      "cell_type": "code",
      "metadata": {
        "id": "RNTx0C9hioIF",
        "colab_type": "code",
        "colab": {}
      },
      "source": [
        ""
      ],
      "execution_count": 10,
      "outputs": []
    },
    {
      "cell_type": "code",
      "metadata": {
        "id": "4rX24uDUioIc",
        "colab_type": "code",
        "colab": {}
      },
      "source": [
        "for var in integer:\n",
        "    train_df[var] = np.round(train_df[var])"
      ],
      "execution_count": 10,
      "outputs": []
    },
    {
      "cell_type": "markdown",
      "metadata": {
        "id": "N_cPJp6qioIt",
        "colab_type": "text"
      },
      "source": [
        "## EDA"
      ]
    },
    {
      "cell_type": "code",
      "metadata": {
        "id": "PwGXJRwNioIx",
        "colab_type": "code",
        "colab": {},
        "outputId": "cee0a1df-b8dc-4488-d9bc-b0be791bb1c9"
      },
      "source": [
        "for var in categorical:\n",
        "    print(data[var].value_counts())"
      ],
      "execution_count": null,
      "outputs": [
        {
          "output_type": "stream",
          "text": [
            "EID_21668    1\n",
            "EID_13854    1\n",
            "EID_21302    1\n",
            "EID_11030    1\n",
            "EID_11587    1\n",
            "            ..\n",
            "EID_12016    1\n",
            "EID_22130    1\n",
            "EID_1657     1\n",
            "EID_15494    1\n",
            "EID_1621     1\n",
            "Name: Employee_ID, Length: 7000, dtype: int64\n",
            "F    4114\n",
            "M    2886\n",
            "Name: Gender, dtype: int64\n",
            "Married    4520\n",
            "Single     2480\n",
            "Name: Relationship_Status, dtype: int64\n",
            "Lebanon        2070\n",
            "Springfield    1736\n",
            "Franklin       1523\n",
            "Washington     1106\n",
            "Clinton         565\n",
            "Name: Hometown, dtype: int64\n",
            "IT                           1394\n",
            "Logistics                    1173\n",
            "Sales                         943\n",
            "Operarions                    706\n",
            "R&D                           680\n",
            "Purchasing                    504\n",
            "Accounting and Finance        496\n",
            "Human Resource Management     344\n",
            "Marketing                     212\n",
            "Production                    211\n",
            "Quality                       193\n",
            "Security                      144\n",
            "Name: Unit, dtype: int64\n",
            "Conceptual    1756\n",
            "Analytical    1755\n",
            "Directive     1753\n",
            "Behavioral    1736\n",
            "Name: Decision_skill_possess, dtype: int64\n",
            "type2    3945\n",
            "type3    2382\n",
            "type4     353\n",
            "type0     187\n",
            "type1     133\n",
            "Name: Compensation_and_Benefits, dtype: int64\n"
          ],
          "name": "stdout"
        }
      ]
    },
    {
      "cell_type": "code",
      "metadata": {
        "id": "gwtgNHVDioI7",
        "colab_type": "code",
        "colab": {
          "base_uri": "https://localhost:8080/",
          "height": 476
        },
        "outputId": "fbd90668-4bf6-4500-c070-001f6c6a5094"
      },
      "source": [
        "data.isnull().sum()"
      ],
      "execution_count": null,
      "outputs": [
        {
          "output_type": "execute_result",
          "data": {
            "text/plain": [
              "Employee_ID                   0\n",
              "Gender                        0\n",
              "Age                           0\n",
              "Education_Level               0\n",
              "Relationship_Status           0\n",
              "Hometown                      0\n",
              "Unit                          0\n",
              "Decision_skill_possess        0\n",
              "Time_of_service               0\n",
              "Time_since_promotion          0\n",
              "growth_rate                   0\n",
              "Travel_Rate                   0\n",
              "Post_Level                    0\n",
              "Pay_Scale                     9\n",
              "Compensation_and_Benefits     0\n",
              "Work_Life_balance            11\n",
              "VAR1                          0\n",
              "VAR2                          0\n",
              "VAR3                          0\n",
              "VAR4                          0\n",
              "VAR5                          0\n",
              "VAR6                          0\n",
              "VAR7                          0\n",
              "Attrition_rate                0\n",
              "dtype: int64"
            ]
          },
          "metadata": {
            "tags": []
          },
          "execution_count": 21
        }
      ]
    },
    {
      "cell_type": "code",
      "metadata": {
        "id": "bZfLIofBqkk2",
        "colab_type": "code",
        "colab": {}
      },
      "source": [
        "from sklearn.impute import SimpleImputer\n",
        "imp = SimpleImputer(missing_values=np.nan, strategy='most_frequent')\n",
        "train_df[categorical]= imp.fit_transform(train_df[categorical])"
      ],
      "execution_count": 11,
      "outputs": []
    },
    {
      "cell_type": "code",
      "metadata": {
        "id": "HilJe7huq23w",
        "colab_type": "code",
        "colab": {
          "base_uri": "https://localhost:8080/",
          "height": 476
        },
        "outputId": "65606f21-3e15-41ad-ff1d-9cbf92de89b0"
      },
      "source": [
        "train_df.isnull().sum()"
      ],
      "execution_count": 13,
      "outputs": [
        {
          "output_type": "execute_result",
          "data": {
            "text/plain": [
              "Employee_ID                  0\n",
              "Gender                       0\n",
              "Age                          0\n",
              "Education_Level              0\n",
              "Relationship_Status          0\n",
              "Hometown                     0\n",
              "Unit                         0\n",
              "Decision_skill_possess       0\n",
              "Time_of_service              0\n",
              "Time_since_promotion         0\n",
              "growth_rate                  0\n",
              "Travel_Rate                  0\n",
              "Post_Level                   0\n",
              "Pay_Scale                    0\n",
              "Compensation_and_Benefits    0\n",
              "Work_Life_balance            0\n",
              "VAR1                         0\n",
              "VAR2                         0\n",
              "VAR3                         0\n",
              "VAR4                         0\n",
              "VAR5                         0\n",
              "VAR6                         0\n",
              "VAR7                         0\n",
              "Attrition_rate               0\n",
              "dtype: int64"
            ]
          },
          "metadata": {
            "tags": []
          },
          "execution_count": 13
        }
      ]
    },
    {
      "cell_type": "markdown",
      "metadata": {
        "id": "lBM1II1rioJb",
        "colab_type": "text"
      },
      "source": [
        "## Encoding categorical variable"
      ]
    },
    {
      "cell_type": "code",
      "metadata": {
        "id": "eTbugRmkioJd",
        "colab_type": "code",
        "colab": {}
      },
      "source": [
        "categorical.remove(\"Employee_ID\")\n",
        "train_df= pd.get_dummies(train_df,columns= categorical)"
      ],
      "execution_count": 28,
      "outputs": []
    },
    {
      "cell_type": "code",
      "metadata": {
        "scrolled": true,
        "id": "2kn6ZfHtioJs",
        "colab_type": "code",
        "colab": {
          "base_uri": "https://localhost:8080/",
          "height": 35
        },
        "outputId": "96f97dc0-2875-47bf-db39-02a981297438"
      },
      "source": [
        "train_df.shape"
      ],
      "execution_count": 29,
      "outputs": [
        {
          "output_type": "execute_result",
          "data": {
            "text/plain": [
              "(7000, 71)"
            ]
          },
          "metadata": {
            "tags": []
          },
          "execution_count": 29
        }
      ]
    },
    {
      "cell_type": "markdown",
      "metadata": {
        "id": "axEqcKFnioJ6",
        "colab_type": "text"
      },
      "source": [
        "## Preprocessing"
      ]
    },
    {
      "cell_type": "code",
      "metadata": {
        "id": "-R-olKX2ioJ8",
        "colab_type": "code",
        "colab": {}
      },
      "source": [
        "from sklearn.preprocessing import StandardScaler\n",
        "scaler = StandardScaler()\n",
        "df[numerical] = scaler.fit_transform(df[numerical])"
      ],
      "execution_count": null,
      "outputs": []
    },
    {
      "cell_type": "code",
      "metadata": {
        "id": "Ik92YRRUioKX",
        "colab_type": "code",
        "colab": {
          "base_uri": "https://localhost:8080/",
          "height": 300
        },
        "outputId": "3f51ba4a-de48-456b-8c18-7a39a437d959"
      },
      "source": [
        "df[numerical].describe()"
      ],
      "execution_count": null,
      "outputs": [
        {
          "output_type": "execute_result",
          "data": {
            "text/html": [
              "<div>\n",
              "<style scoped>\n",
              "    .dataframe tbody tr th:only-of-type {\n",
              "        vertical-align: middle;\n",
              "    }\n",
              "\n",
              "    .dataframe tbody tr th {\n",
              "        vertical-align: top;\n",
              "    }\n",
              "\n",
              "    .dataframe thead th {\n",
              "        text-align: right;\n",
              "    }\n",
              "</style>\n",
              "<table border=\"1\" class=\"dataframe\">\n",
              "  <thead>\n",
              "    <tr style=\"text-align: right;\">\n",
              "      <th></th>\n",
              "      <th>Age</th>\n",
              "      <th>Time_of_service</th>\n",
              "      <th>Time_since_promotion</th>\n",
              "      <th>growth_rate</th>\n",
              "      <th>VAR1</th>\n",
              "      <th>VAR2</th>\n",
              "      <th>VAR3</th>\n",
              "      <th>VAR4</th>\n",
              "      <th>VAR5</th>\n",
              "      <th>VAR6</th>\n",
              "      <th>VAR7</th>\n",
              "    </tr>\n",
              "  </thead>\n",
              "  <tbody>\n",
              "    <tr>\n",
              "      <th>count</th>\n",
              "      <td>7.000000e+03</td>\n",
              "      <td>7.000000e+03</td>\n",
              "      <td>7.000000e+03</td>\n",
              "      <td>7.000000e+03</td>\n",
              "      <td>7.000000e+03</td>\n",
              "      <td>7.000000e+03</td>\n",
              "      <td>7.000000e+03</td>\n",
              "      <td>7.000000e+03</td>\n",
              "      <td>7.000000e+03</td>\n",
              "      <td>7.000000e+03</td>\n",
              "      <td>7.000000e+03</td>\n",
              "    </tr>\n",
              "    <tr>\n",
              "      <th>mean</th>\n",
              "      <td>-1.031873e-16</td>\n",
              "      <td>2.954779e-17</td>\n",
              "      <td>-6.548333e-16</td>\n",
              "      <td>4.891008e-16</td>\n",
              "      <td>2.575202e-16</td>\n",
              "      <td>3.616849e-16</td>\n",
              "      <td>-7.600270e-17</td>\n",
              "      <td>-4.104653e-16</td>\n",
              "      <td>7.182826e-16</td>\n",
              "      <td>3.411240e-16</td>\n",
              "      <td>2.821077e-16</td>\n",
              "    </tr>\n",
              "    <tr>\n",
              "      <th>std</th>\n",
              "      <td>1.000071e+00</td>\n",
              "      <td>1.000071e+00</td>\n",
              "      <td>1.000071e+00</td>\n",
              "      <td>1.000071e+00</td>\n",
              "      <td>1.000071e+00</td>\n",
              "      <td>1.000071e+00</td>\n",
              "      <td>1.000071e+00</td>\n",
              "      <td>1.000071e+00</td>\n",
              "      <td>1.000071e+00</td>\n",
              "      <td>1.000071e+00</td>\n",
              "      <td>1.000071e+00</td>\n",
              "    </tr>\n",
              "    <tr>\n",
              "      <th>min</th>\n",
              "      <td>-1.530392e+00</td>\n",
              "      <td>-1.299687e+00</td>\n",
              "      <td>-2.059615e+00</td>\n",
              "      <td>-1.717246e+00</td>\n",
              "      <td>-2.509301e+00</td>\n",
              "      <td>-1.889384e+00</td>\n",
              "      <td>-2.799371e+00</td>\n",
              "      <td>-1.748663e+00</td>\n",
              "      <td>-1.953548e+00</td>\n",
              "      <td>-1.804951e+00</td>\n",
              "      <td>-2.439332e+00</td>\n",
              "    </tr>\n",
              "    <tr>\n",
              "      <th>25%</th>\n",
              "      <td>-9.076208e-01</td>\n",
              "      <td>-8.143358e-01</td>\n",
              "      <td>-1.189530e+00</td>\n",
              "      <td>-8.923880e-01</td>\n",
              "      <td>-1.178637e-01</td>\n",
              "      <td>-9.942109e-01</td>\n",
              "      <td>-4.459524e-01</td>\n",
              "      <td>2.145997e-01</td>\n",
              "      <td>-8.884467e-01</td>\n",
              "      <td>-9.459763e-01</td>\n",
              "      <td>-2.777617e-01</td>\n",
              "    </tr>\n",
              "    <tr>\n",
              "      <th>50%</th>\n",
              "      <td>-1.913994e-01</td>\n",
              "      <td>-3.289847e-01</td>\n",
              "      <td>-3.194455e-01</td>\n",
              "      <td>-4.078970e-03</td>\n",
              "      <td>-1.178637e-01</td>\n",
              "      <td>-9.903787e-02</td>\n",
              "      <td>-4.459524e-01</td>\n",
              "      <td>2.145997e-01</td>\n",
              "      <td>1.766547e-01</td>\n",
              "      <td>-8.700184e-02</td>\n",
              "      <td>-2.777617e-01</td>\n",
              "    </tr>\n",
              "    <tr>\n",
              "      <th>75%</th>\n",
              "      <td>9.244278e-01</td>\n",
              "      <td>7.387877e-01</td>\n",
              "      <td>5.506395e-01</td>\n",
              "      <td>8.842301e-01</td>\n",
              "      <td>-1.178637e-01</td>\n",
              "      <td>7.961352e-01</td>\n",
              "      <td>7.307063e-01</td>\n",
              "      <td>2.145997e-01</td>\n",
              "      <td>1.766547e-01</td>\n",
              "      <td>7.719726e-01</td>\n",
              "      <td>8.030233e-01</td>\n",
              "    </tr>\n",
              "    <tr>\n",
              "      <th>max</th>\n",
              "      <td>1.891478e+00</td>\n",
              "      <td>2.874332e+00</td>\n",
              "      <td>1.420724e+00</td>\n",
              "      <td>1.709089e+00</td>\n",
              "      <td>2.273573e+00</td>\n",
              "      <td>1.691413e+00</td>\n",
              "      <td>1.907466e+00</td>\n",
              "      <td>2.177862e+00</td>\n",
              "      <td>2.306857e+00</td>\n",
              "      <td>1.630947e+00</td>\n",
              "      <td>1.883808e+00</td>\n",
              "    </tr>\n",
              "  </tbody>\n",
              "</table>\n",
              "</div>"
            ],
            "text/plain": [
              "                Age  Time_of_service  ...          VAR6          VAR7\n",
              "count  7.000000e+03     7.000000e+03  ...  7.000000e+03  7.000000e+03\n",
              "mean  -1.031873e-16     2.954779e-17  ...  3.411240e-16  2.821077e-16\n",
              "std    1.000071e+00     1.000071e+00  ...  1.000071e+00  1.000071e+00\n",
              "min   -1.530392e+00    -1.299687e+00  ... -1.804951e+00 -2.439332e+00\n",
              "25%   -9.076208e-01    -8.143358e-01  ... -9.459763e-01 -2.777617e-01\n",
              "50%   -1.913994e-01    -3.289847e-01  ... -8.700184e-02 -2.777617e-01\n",
              "75%    9.244278e-01     7.387877e-01  ...  7.719726e-01  8.030233e-01\n",
              "max    1.891478e+00     2.874332e+00  ...  1.630947e+00  1.883808e+00\n",
              "\n",
              "[8 rows x 11 columns]"
            ]
          },
          "metadata": {
            "tags": []
          },
          "execution_count": 29
        }
      ]
    },
    {
      "cell_type": "markdown",
      "metadata": {
        "id": "z84YLWL3ioKe",
        "colab_type": "text"
      },
      "source": [
        "## dependent and independent variable"
      ]
    },
    {
      "cell_type": "code",
      "metadata": {
        "id": "vK1E4m2wioKh",
        "colab_type": "code",
        "colab": {}
      },
      "source": [
        "emp_id=train_df[[\"Employee_ID\"]]\n",
        "X=train_df.drop([\"Employee_ID\",\"Attrition_rate\"],axis=1)\n",
        "y=train_df[[\"Attrition_rate\"]]"
      ],
      "execution_count": 30,
      "outputs": []
    },
    {
      "cell_type": "code",
      "metadata": {
        "id": "BWEfYMJkioKr",
        "colab_type": "code",
        "colab": {}
      },
      "source": [
        "from sklearn.model_selection import cross_val_score\n",
        "dt = DecisionTreeRegressor(max_depth=7,min_samples_leaf=0.10,random_state=3)"
      ],
      "execution_count": 36,
      "outputs": []
    },
    {
      "cell_type": "code",
      "metadata": {
        "id": "k6RdaLuJioMS",
        "colab_type": "code",
        "colab": {}
      },
      "source": [
        "X_train,X_test,y_train,y_test = train_test_split(X,y,test_size=0.2,random_state=3)"
      ],
      "execution_count": 37,
      "outputs": []
    },
    {
      "cell_type": "code",
      "metadata": {
        "id": "kpVC-OXNioMw",
        "colab_type": "code",
        "colab": {
          "base_uri": "https://localhost:8080/",
          "height": 127
        },
        "outputId": "be4bb8b5-06f1-43f0-adf1-def6a64f4916"
      },
      "source": [
        "dt.fit(X_train,y_train)"
      ],
      "execution_count": 38,
      "outputs": [
        {
          "output_type": "execute_result",
          "data": {
            "text/plain": [
              "DecisionTreeRegressor(ccp_alpha=0.0, criterion='mse', max_depth=7,\n",
              "                      max_features=None, max_leaf_nodes=None,\n",
              "                      min_impurity_decrease=0.0, min_impurity_split=None,\n",
              "                      min_samples_leaf=0.1, min_samples_split=2,\n",
              "                      min_weight_fraction_leaf=0.0, presort='deprecated',\n",
              "                      random_state=3, splitter='best')"
            ]
          },
          "metadata": {
            "tags": []
          },
          "execution_count": 38
        }
      ]
    },
    {
      "cell_type": "code",
      "metadata": {
        "id": "azgnsKUqyqli",
        "colab_type": "code",
        "colab": {}
      },
      "source": [
        "y_pred= dt.predict(X_test)"
      ],
      "execution_count": 39,
      "outputs": []
    },
    {
      "cell_type": "code",
      "metadata": {
        "id": "9B7P33g2zkAY",
        "colab_type": "code",
        "colab": {}
      },
      "source": [
        "mse_dt=MSE(y_test,y_pred)"
      ],
      "execution_count": 40,
      "outputs": []
    },
    {
      "cell_type": "code",
      "metadata": {
        "id": "CJue6gj2zqyD",
        "colab_type": "code",
        "colab": {
          "base_uri": "https://localhost:8080/",
          "height": 35
        },
        "outputId": "4d53a295-644d-458c-eace-2cdc580511a5"
      },
      "source": [
        "rmse_dt = np.sqrt(mse_dt)\n",
        "rmse_dt"
      ],
      "execution_count": 41,
      "outputs": [
        {
          "output_type": "execute_result",
          "data": {
            "text/plain": [
              "0.17785528021571184"
            ]
          },
          "metadata": {
            "tags": []
          },
          "execution_count": 41
        }
      ]
    },
    {
      "cell_type": "code",
      "metadata": {
        "id": "uZRjsbApzw_d",
        "colab_type": "code",
        "colab": {}
      },
      "source": [
        "test_df = pd.read_csv(\"/content/Test.csv\")"
      ],
      "execution_count": 42,
      "outputs": []
    },
    {
      "cell_type": "code",
      "metadata": {
        "id": "SC5DNNTx0DEw",
        "colab_type": "code",
        "colab": {
          "base_uri": "https://localhost:8080/",
          "height": 146
        },
        "outputId": "02517e74-d2cc-4746-fd71-5a68770c0fa9"
      },
      "source": [
        "test_df.columns"
      ],
      "execution_count": 43,
      "outputs": [
        {
          "output_type": "execute_result",
          "data": {
            "text/plain": [
              "Index(['Employee_ID', 'Gender', 'Age', 'Education_Level',\n",
              "       'Relationship_Status', 'Hometown', 'Unit', 'Decision_skill_possess',\n",
              "       'Time_of_service', 'Time_since_promotion', 'growth_rate', 'Travel_Rate',\n",
              "       'Post_Level', 'Pay_Scale', 'Compensation_and_Benefits',\n",
              "       'Work_Life_balance', 'VAR1', 'VAR2', 'VAR3', 'VAR4', 'VAR5', 'VAR6',\n",
              "       'VAR7'],\n",
              "      dtype='object')"
            ]
          },
          "metadata": {
            "tags": []
          },
          "execution_count": 43
        }
      ]
    },
    {
      "cell_type": "code",
      "metadata": {
        "id": "LjH2Q4nG0FDy",
        "colab_type": "code",
        "colab": {
          "base_uri": "https://localhost:8080/",
          "height": 458
        },
        "outputId": "5bfc9b30-bde1-4902-a695-20f58a42a058"
      },
      "source": [
        "test_df.isnull().sum()"
      ],
      "execution_count": 44,
      "outputs": [
        {
          "output_type": "execute_result",
          "data": {
            "text/plain": [
              "Employee_ID                    0\n",
              "Gender                         0\n",
              "Age                          161\n",
              "Education_Level                0\n",
              "Relationship_Status            0\n",
              "Hometown                       0\n",
              "Unit                           0\n",
              "Decision_skill_possess         0\n",
              "Time_of_service               52\n",
              "Time_since_promotion           0\n",
              "growth_rate                    0\n",
              "Travel_Rate                    0\n",
              "Post_Level                     0\n",
              "Pay_Scale                      3\n",
              "Compensation_and_Benefits      0\n",
              "Work_Life_balance              5\n",
              "VAR1                           0\n",
              "VAR2                         217\n",
              "VAR3                           0\n",
              "VAR4                         298\n",
              "VAR5                           0\n",
              "VAR6                           0\n",
              "VAR7                           0\n",
              "dtype: int64"
            ]
          },
          "metadata": {
            "tags": []
          },
          "execution_count": 44
        }
      ]
    },
    {
      "cell_type": "code",
      "metadata": {
        "id": "Nfjw5jXJ0Mbf",
        "colab_type": "code",
        "colab": {}
      },
      "source": [
        "from sklearn.impute import KNNImputer\n",
        "imputer = KNNImputer(n_neighbors=5,weights='distance')\n",
        "test_df[numerical] = pd.DataFrame(imputer.fit_transform(test_df[numerical]),columns=numerical)"
      ],
      "execution_count": 45,
      "outputs": []
    },
    {
      "cell_type": "code",
      "metadata": {
        "id": "gokvE4gZ0pIF",
        "colab_type": "code",
        "colab": {}
      },
      "source": [
        "from sklearn.impute import SimpleImputer\n",
        "imp = SimpleImputer(missing_values=np.nan, strategy='most_frequent')\n",
        "test_df[categorical]= imp.fit_transform(test_df[categorical])"
      ],
      "execution_count": 47,
      "outputs": []
    },
    {
      "cell_type": "code",
      "metadata": {
        "id": "PjuWfLLR1CC_",
        "colab_type": "code",
        "colab": {}
      },
      "source": [
        "test_df= pd.get_dummies(test_df,columns= categorical)"
      ],
      "execution_count": 48,
      "outputs": []
    },
    {
      "cell_type": "code",
      "metadata": {
        "id": "-Klca9UC1DS5",
        "colab_type": "code",
        "colab": {
          "base_uri": "https://localhost:8080/",
          "height": 237
        },
        "outputId": "abf84aa5-da2b-441c-f518-123871edba31"
      },
      "source": [
        "test_df.isnull().sum()"
      ],
      "execution_count": 49,
      "outputs": [
        {
          "output_type": "execute_result",
          "data": {
            "text/plain": [
              "Employee_ID                        0\n",
              "Age                                0\n",
              "Time_of_service                    0\n",
              "Time_since_promotion               0\n",
              "growth_rate                        0\n",
              "                                  ..\n",
              "Compensation_and_Benefits_type0    0\n",
              "Compensation_and_Benefits_type1    0\n",
              "Compensation_and_Benefits_type2    0\n",
              "Compensation_and_Benefits_type3    0\n",
              "Compensation_and_Benefits_type4    0\n",
              "Length: 70, dtype: int64"
            ]
          },
          "metadata": {
            "tags": []
          },
          "execution_count": 49
        }
      ]
    },
    {
      "cell_type": "code",
      "metadata": {
        "id": "5E0XhknQ1UWu",
        "colab_type": "code",
        "colab": {}
      },
      "source": [
        "test_df_final = test_df.drop(\"Employee_ID\",axis =1)\n",
        "y_test_pred = dt.predict(test_df_final)"
      ],
      "execution_count": 55,
      "outputs": []
    },
    {
      "cell_type": "code",
      "metadata": {
        "id": "we6dnxWE1nQ8",
        "colab_type": "code",
        "colab": {
          "base_uri": "https://localhost:8080/",
          "height": 54
        },
        "outputId": "7bdcb0ba-6988-4696-8e5b-b6ae9fe5eef7"
      },
      "source": [
        "y_test_pred"
      ],
      "execution_count": 56,
      "outputs": [
        {
          "output_type": "execute_result",
          "data": {
            "text/plain": [
              "array([0.20021909, 0.21329069, 0.21329069, ..., 0.17305876, 0.16835482,\n",
              "       0.17305876])"
            ]
          },
          "metadata": {
            "tags": []
          },
          "execution_count": 56
        }
      ]
    },
    {
      "cell_type": "code",
      "metadata": {
        "id": "7YdnHb__127r",
        "colab_type": "code",
        "colab": {}
      },
      "source": [
        "sample= pd.read_csv(\"sample_submission.csv\")"
      ],
      "execution_count": 57,
      "outputs": []
    },
    {
      "cell_type": "code",
      "metadata": {
        "id": "x_af0YjK2XBC",
        "colab_type": "code",
        "colab": {
          "base_uri": "https://localhost:8080/",
          "height": 206
        },
        "outputId": "8098b691-c1a7-4d5d-ada8-661a4c8f6ddf"
      },
      "source": [
        "sample.head()"
      ],
      "execution_count": 58,
      "outputs": [
        {
          "output_type": "execute_result",
          "data": {
            "text/html": [
              "<div>\n",
              "<style scoped>\n",
              "    .dataframe tbody tr th:only-of-type {\n",
              "        vertical-align: middle;\n",
              "    }\n",
              "\n",
              "    .dataframe tbody tr th {\n",
              "        vertical-align: top;\n",
              "    }\n",
              "\n",
              "    .dataframe thead th {\n",
              "        text-align: right;\n",
              "    }\n",
              "</style>\n",
              "<table border=\"1\" class=\"dataframe\">\n",
              "  <thead>\n",
              "    <tr style=\"text-align: right;\">\n",
              "      <th></th>\n",
              "      <th>Employee_ID</th>\n",
              "      <th>Attrition_rate</th>\n",
              "    </tr>\n",
              "  </thead>\n",
              "  <tbody>\n",
              "    <tr>\n",
              "      <th>0</th>\n",
              "      <td>TID_1</td>\n",
              "      <td>0.1588</td>\n",
              "    </tr>\n",
              "    <tr>\n",
              "      <th>1</th>\n",
              "      <td>TID_2</td>\n",
              "      <td>0.1424</td>\n",
              "    </tr>\n",
              "    <tr>\n",
              "      <th>2</th>\n",
              "      <td>TID_3</td>\n",
              "      <td>0.4758</td>\n",
              "    </tr>\n",
              "    <tr>\n",
              "      <th>3</th>\n",
              "      <td>TID_4</td>\n",
              "      <td>0.0846</td>\n",
              "    </tr>\n",
              "    <tr>\n",
              "      <th>4</th>\n",
              "      <td>TID_5</td>\n",
              "      <td>0.2388</td>\n",
              "    </tr>\n",
              "  </tbody>\n",
              "</table>\n",
              "</div>"
            ],
            "text/plain": [
              "  Employee_ID  Attrition_rate\n",
              "0       TID_1          0.1588\n",
              "1       TID_2          0.1424\n",
              "2       TID_3          0.4758\n",
              "3       TID_4          0.0846\n",
              "4       TID_5          0.2388"
            ]
          },
          "metadata": {
            "tags": []
          },
          "execution_count": 58
        }
      ]
    },
    {
      "cell_type": "code",
      "metadata": {
        "id": "iktLnYxG2ZF_",
        "colab_type": "code",
        "colab": {
          "base_uri": "https://localhost:8080/",
          "height": 191
        },
        "outputId": "0cce3be2-2e7f-40f7-cb7a-5a9e19f805d0"
      },
      "source": [
        "dd = {\"Employee_ID\":test_df[\"Employee_ID\"], \"Attrition_rate\":y_test_pred}\n",
        "result = pd.DataFrame(dd,header =True)"
      ],
      "execution_count": 66,
      "outputs": [
        {
          "output_type": "error",
          "ename": "TypeError",
          "evalue": "ignored",
          "traceback": [
            "\u001b[0;31m---------------------------------------------------------------------------\u001b[0m",
            "\u001b[0;31mTypeError\u001b[0m                                 Traceback (most recent call last)",
            "\u001b[0;32m<ipython-input-66-68abfc6c8239>\u001b[0m in \u001b[0;36m<module>\u001b[0;34m()\u001b[0m\n\u001b[1;32m      1\u001b[0m \u001b[0mdd\u001b[0m \u001b[0;34m=\u001b[0m \u001b[0;34m{\u001b[0m\u001b[0;34m\"Employee_ID\"\u001b[0m\u001b[0;34m:\u001b[0m\u001b[0mtest_df\u001b[0m\u001b[0;34m[\u001b[0m\u001b[0;34m\"Employee_ID\"\u001b[0m\u001b[0;34m]\u001b[0m\u001b[0;34m,\u001b[0m \u001b[0;34m\"Attrition_rate\"\u001b[0m\u001b[0;34m:\u001b[0m\u001b[0my_test_pred\u001b[0m\u001b[0;34m}\u001b[0m\u001b[0;34m\u001b[0m\u001b[0;34m\u001b[0m\u001b[0m\n\u001b[0;32m----> 2\u001b[0;31m \u001b[0mresult\u001b[0m \u001b[0;34m=\u001b[0m \u001b[0mpd\u001b[0m\u001b[0;34m.\u001b[0m\u001b[0mDataFrame\u001b[0m\u001b[0;34m(\u001b[0m\u001b[0mdd\u001b[0m\u001b[0;34m,\u001b[0m\u001b[0mheader\u001b[0m \u001b[0;34m=\u001b[0m\u001b[0;32mTrue\u001b[0m\u001b[0;34m)\u001b[0m\u001b[0;34m\u001b[0m\u001b[0;34m\u001b[0m\u001b[0m\n\u001b[0m",
            "\u001b[0;31mTypeError\u001b[0m: __init__() got an unexpected keyword argument 'header'"
          ]
        }
      ]
    },
    {
      "cell_type": "code",
      "metadata": {
        "id": "xIOi2p-E2sQD",
        "colab_type": "code",
        "colab": {
          "base_uri": "https://localhost:8080/",
          "height": 206
        },
        "outputId": "558292c4-fee4-445a-c529-42d22deb5b12"
      },
      "source": [
        "result.head()"
      ],
      "execution_count": 63,
      "outputs": [
        {
          "output_type": "execute_result",
          "data": {
            "text/html": [
              "<div>\n",
              "<style scoped>\n",
              "    .dataframe tbody tr th:only-of-type {\n",
              "        vertical-align: middle;\n",
              "    }\n",
              "\n",
              "    .dataframe tbody tr th {\n",
              "        vertical-align: top;\n",
              "    }\n",
              "\n",
              "    .dataframe thead th {\n",
              "        text-align: right;\n",
              "    }\n",
              "</style>\n",
              "<table border=\"1\" class=\"dataframe\">\n",
              "  <thead>\n",
              "    <tr style=\"text-align: right;\">\n",
              "      <th></th>\n",
              "      <th>Employee_ID</th>\n",
              "      <th>Attrition_rate</th>\n",
              "    </tr>\n",
              "  </thead>\n",
              "  <tbody>\n",
              "    <tr>\n",
              "      <th>0</th>\n",
              "      <td>EID_22713</td>\n",
              "      <td>0.200219</td>\n",
              "    </tr>\n",
              "    <tr>\n",
              "      <th>1</th>\n",
              "      <td>EID_9658</td>\n",
              "      <td>0.213291</td>\n",
              "    </tr>\n",
              "    <tr>\n",
              "      <th>2</th>\n",
              "      <td>EID_22203</td>\n",
              "      <td>0.213291</td>\n",
              "    </tr>\n",
              "    <tr>\n",
              "      <th>3</th>\n",
              "      <td>EID_7652</td>\n",
              "      <td>0.213291</td>\n",
              "    </tr>\n",
              "    <tr>\n",
              "      <th>4</th>\n",
              "      <td>EID_6516</td>\n",
              "      <td>0.183511</td>\n",
              "    </tr>\n",
              "  </tbody>\n",
              "</table>\n",
              "</div>"
            ],
            "text/plain": [
              "  Employee_ID  Attrition_rate\n",
              "0   EID_22713        0.200219\n",
              "1    EID_9658        0.213291\n",
              "2   EID_22203        0.213291\n",
              "3    EID_7652        0.213291\n",
              "4    EID_6516        0.183511"
            ]
          },
          "metadata": {
            "tags": []
          },
          "execution_count": 63
        }
      ]
    },
    {
      "cell_type": "code",
      "metadata": {
        "id": "zz0lkCkB2yJb",
        "colab_type": "code",
        "colab": {}
      },
      "source": [
        "result.to_csv(\"/content/result.csv\")"
      ],
      "execution_count": 64,
      "outputs": []
    },
    {
      "cell_type": "code",
      "metadata": {
        "id": "JvVdZqhc3CN-",
        "colab_type": "code",
        "colab": {
          "base_uri": "https://localhost:8080/",
          "height": 35
        },
        "outputId": "ca472172-f099-4665-95fe-f65264b90482"
      },
      "source": [
        "score = 100* max(0, 1-rmse_dt )\n",
        "score"
      ],
      "execution_count": 65,
      "outputs": [
        {
          "output_type": "execute_result",
          "data": {
            "text/plain": [
              "82.21447197842882"
            ]
          },
          "metadata": {
            "tags": []
          },
          "execution_count": 65
        }
      ]
    },
    {
      "cell_type": "code",
      "metadata": {
        "id": "8Rn8gVXa4dQR",
        "colab_type": "code",
        "colab": {}
      },
      "source": [
        ""
      ],
      "execution_count": null,
      "outputs": []
    }
  ]
}