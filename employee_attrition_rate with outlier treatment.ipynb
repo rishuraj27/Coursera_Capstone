{
  "nbformat": 4,
  "nbformat_minor": 0,
  "metadata": {
    "kernelspec": {
      "display_name": "Python 3",
      "language": "python",
      "name": "python3"
    },
    "language_info": {
      "codemirror_mode": {
        "name": "ipython",
        "version": 3
      },
      "file_extension": ".py",
      "mimetype": "text/x-python",
      "name": "python",
      "nbconvert_exporter": "python",
      "pygments_lexer": "ipython3",
      "version": "3.7.6"
    },
    "colab": {
      "name": "Copy of employee attrition rate.ipynb",
      "provenance": [],
      "collapsed_sections": [
        "axEqcKFnioJ6"
      ],
      "include_colab_link": true
    }
  },
  "cells": [
    {
      "cell_type": "markdown",
      "metadata": {
        "id": "view-in-github",
        "colab_type": "text"
      },
      "source": [
        "<a href=\"https://colab.research.google.com/github/rishuraj27/Coursera_Capstone/blob/master/employee_attrition_rate%20with%20outlier%20treatment.ipynb\" target=\"_parent\"><img src=\"https://colab.research.google.com/assets/colab-badge.svg\" alt=\"Open In Colab\"/></a>"
      ]
    },
    {
      "cell_type": "code",
      "metadata": {
        "id": "9OfDDJvBioFJ",
        "colab_type": "code",
        "colab": {}
      },
      "source": [
        "import numpy as np\n",
        "import pandas as pd\n",
        "import matplotlib.pyplot as plt\n",
        "from sklearn.tree import DecisionTreeRegressor\n",
        "from sklearn.metrics import mean_squared_error as MSE\n",
        "from sklearn.model_selection import train_test_split"
      ],
      "execution_count": 1,
      "outputs": []
    },
    {
      "cell_type": "code",
      "metadata": {
        "id": "okJujEu4ioF7",
        "colab_type": "code",
        "colab": {}
      },
      "source": [
        "train_df = pd.read_csv(\"/content/Train.csv\")\n",
        "test_df = pd.read_csv(\"/content/Test.csv\")"
      ],
      "execution_count": 2,
      "outputs": []
    },
    {
      "cell_type": "code",
      "metadata": {
        "id": "UZ4Rpq74ioGL",
        "colab_type": "code",
        "colab": {}
      },
      "source": [
        "train_df.head()"
      ],
      "execution_count": null,
      "outputs": []
    },
    {
      "cell_type": "code",
      "metadata": {
        "id": "Qwt0C772oMsr",
        "colab_type": "code",
        "colab": {}
      },
      "source": [
        "numerical= ['Age',  'Time_of_service', 'Time_since_promotion', 'growth_rate',  \n",
        "        'VAR1', 'VAR2', 'VAR3', 'VAR4', 'VAR5', 'VAR6','VAR7'] \n",
        "dep = ['Attrition_rate']\n",
        "integer =['Time_since_promotion', 'growth_rate','VAR1', 'VAR5', 'VAR6','VAR7']\n",
        "categorical = ['Employee_ID', 'Gender','Education_Level','Relationship_Status', \n",
        "              'Hometown','Unit', 'Decision_skill_possess','Travel_Rate',\n",
        "       'Post_Level', 'Pay_Scale','Work_Life_balance','Compensation_and_Benefits']"
      ],
      "execution_count": 4,
      "outputs": []
    },
    {
      "cell_type": "code",
      "metadata": {
        "id": "hhgXtycsioGg",
        "colab_type": "code",
        "colab": {}
      },
      "source": [
        "train_df.info()"
      ],
      "execution_count": null,
      "outputs": []
    },
    {
      "cell_type": "markdown",
      "metadata": {
        "id": "etbRnvZuioHB",
        "colab_type": "text"
      },
      "source": [
        "## Missing treatment"
      ]
    },
    {
      "cell_type": "code",
      "metadata": {
        "id": "LA5FV_5hioHa",
        "colab_type": "code",
        "colab": {}
      },
      "source": [
        "train_df[numerical].isnull().sum()"
      ],
      "execution_count": null,
      "outputs": []
    },
    {
      "cell_type": "code",
      "metadata": {
        "id": "b7tuTYmgioHp",
        "colab_type": "code",
        "colab": {}
      },
      "source": [
        "train_df[categorical].isnull().sum()"
      ],
      "execution_count": null,
      "outputs": []
    },
    {
      "cell_type": "code",
      "metadata": {
        "id": "ASwK76gMioH2",
        "colab_type": "code",
        "colab": {}
      },
      "source": [
        "#Train numerical data imputation\n",
        "from sklearn.impute import KNNImputer\n",
        "imputer = KNNImputer(n_neighbors=5,weights='distance')\n",
        "train_df[numerical] = pd.DataFrame(imputer.fit_transform(train_df[numerical]),columns=numerical)"
      ],
      "execution_count": 10,
      "outputs": []
    },
    {
      "cell_type": "code",
      "metadata": {
        "id": "RNTx0C9hioIF",
        "colab_type": "code",
        "colab": {}
      },
      "source": [
        "#Test numerical data imputation\n",
        "from sklearn.impute import KNNImputer\n",
        "imputer = KNNImputer(n_neighbors=5,weights='distance')\n",
        "test_df[numerical] = pd.DataFrame(imputer.fit_transform(test_df[numerical]),columns=numerical)"
      ],
      "execution_count": 11,
      "outputs": []
    },
    {
      "cell_type": "code",
      "metadata": {
        "id": "4rX24uDUioIc",
        "colab_type": "code",
        "colab": {}
      },
      "source": [
        "for var in integer:\n",
        "    train_df[var] = np.round(train_df[var])\n",
        "    test_df[var] = np.round(test_df[var])"
      ],
      "execution_count": 12,
      "outputs": []
    },
    {
      "cell_type": "code",
      "metadata": {
        "id": "bZfLIofBqkk2",
        "colab_type": "code",
        "colab": {}
      },
      "source": [
        "from sklearn.impute import SimpleImputer\n",
        "imp = SimpleImputer(missing_values=np.nan, strategy='most_frequent')\n",
        "train_df[categorical]= imp.fit_transform(train_df[categorical])\n",
        "test_df[categorical]= imp.fit_transform(test_df[categorical])"
      ],
      "execution_count": 13,
      "outputs": []
    },
    {
      "cell_type": "code",
      "metadata": {
        "id": "HilJe7huq23w",
        "colab_type": "code",
        "colab": {
          "base_uri": "https://localhost:8080/",
          "height": 476
        },
        "outputId": "55ed5693-2173-47bf-80a7-a24e394ed1ce"
      },
      "source": [
        "train_df.isnull().sum()"
      ],
      "execution_count": 14,
      "outputs": [
        {
          "output_type": "execute_result",
          "data": {
            "text/plain": [
              "Employee_ID                  0\n",
              "Gender                       0\n",
              "Age                          0\n",
              "Education_Level              0\n",
              "Relationship_Status          0\n",
              "Hometown                     0\n",
              "Unit                         0\n",
              "Decision_skill_possess       0\n",
              "Time_of_service              0\n",
              "Time_since_promotion         0\n",
              "growth_rate                  0\n",
              "Travel_Rate                  0\n",
              "Post_Level                   0\n",
              "Pay_Scale                    0\n",
              "Compensation_and_Benefits    0\n",
              "Work_Life_balance            0\n",
              "VAR1                         0\n",
              "VAR2                         0\n",
              "VAR3                         0\n",
              "VAR4                         0\n",
              "VAR5                         0\n",
              "VAR6                         0\n",
              "VAR7                         0\n",
              "Attrition_rate               0\n",
              "dtype: int64"
            ]
          },
          "metadata": {
            "tags": []
          },
          "execution_count": 14
        }
      ]
    },
    {
      "cell_type": "code",
      "metadata": {
        "id": "tmVopba8LAxz",
        "colab_type": "code",
        "colab": {
          "base_uri": "https://localhost:8080/",
          "height": 458
        },
        "outputId": "6c46f412-5205-48fd-f90e-f7876848a3c4"
      },
      "source": [
        "test_df.isnull().sum()"
      ],
      "execution_count": 15,
      "outputs": [
        {
          "output_type": "execute_result",
          "data": {
            "text/plain": [
              "Employee_ID                  0\n",
              "Gender                       0\n",
              "Age                          0\n",
              "Education_Level              0\n",
              "Relationship_Status          0\n",
              "Hometown                     0\n",
              "Unit                         0\n",
              "Decision_skill_possess       0\n",
              "Time_of_service              0\n",
              "Time_since_promotion         0\n",
              "growth_rate                  0\n",
              "Travel_Rate                  0\n",
              "Post_Level                   0\n",
              "Pay_Scale                    0\n",
              "Compensation_and_Benefits    0\n",
              "Work_Life_balance            0\n",
              "VAR1                         0\n",
              "VAR2                         0\n",
              "VAR3                         0\n",
              "VAR4                         0\n",
              "VAR5                         0\n",
              "VAR6                         0\n",
              "VAR7                         0\n",
              "dtype: int64"
            ]
          },
          "metadata": {
            "tags": []
          },
          "execution_count": 15
        }
      ]
    },
    {
      "cell_type": "markdown",
      "metadata": {
        "id": "lBM1II1rioJb",
        "colab_type": "text"
      },
      "source": [
        "## Encoding categorical variable"
      ]
    },
    {
      "cell_type": "code",
      "metadata": {
        "id": "eTbugRmkioJd",
        "colab_type": "code",
        "colab": {}
      },
      "source": [
        "categorical.remove(\"Employee_ID\")\n",
        "train_df= pd.get_dummies(train_df,columns= categorical)\n",
        "test_df= pd.get_dummies(test_df,columns= categorical)"
      ],
      "execution_count": 16,
      "outputs": []
    },
    {
      "cell_type": "code",
      "metadata": {
        "scrolled": true,
        "id": "2kn6ZfHtioJs",
        "colab_type": "code",
        "colab": {
          "base_uri": "https://localhost:8080/",
          "height": 35
        },
        "outputId": "2d85370e-49c8-4ddd-87a7-b5c936887b88"
      },
      "source": [
        "train_df.shape"
      ],
      "execution_count": 17,
      "outputs": [
        {
          "output_type": "execute_result",
          "data": {
            "text/plain": [
              "(7000, 71)"
            ]
          },
          "metadata": {
            "tags": []
          },
          "execution_count": 17
        }
      ]
    },
    {
      "cell_type": "markdown",
      "metadata": {
        "id": "0lbuPofVLz5o",
        "colab_type": "text"
      },
      "source": [
        "## Outlier Treatment"
      ]
    },
    {
      "cell_type": "code",
      "metadata": {
        "id": "lP2li9QgL9sD",
        "colab_type": "code",
        "colab": {}
      },
      "source": [
        "from sklearn.cluster import DBSCAN\n",
        "from sklearn.neighbors import NearestNeighbors\n"
      ],
      "execution_count": 19,
      "outputs": []
    },
    {
      "cell_type": "code",
      "metadata": {
        "id": "-R-olKX2ioJ8",
        "colab_type": "code",
        "colab": {}
      },
      "source": [
        "data_out = train_df[numerical].copy(deep=True)\n",
        "from sklearn.preprocessing import StandardScaler\n",
        "scaler = StandardScaler()\n",
        "data_out = scaler.fit_transform(data_out)"
      ],
      "execution_count": 21,
      "outputs": []
    },
    {
      "cell_type": "code",
      "metadata": {
        "id": "L-KdkDEwMlmE",
        "colab_type": "code",
        "colab": {
          "base_uri": "https://localhost:8080/",
          "height": 35
        },
        "outputId": "43dc7bed-9c91-4934-cd0a-ab09f68711b0"
      },
      "source": [
        "len(numerical)"
      ],
      "execution_count": 22,
      "outputs": [
        {
          "output_type": "execute_result",
          "data": {
            "text/plain": [
              "11"
            ]
          },
          "metadata": {
            "tags": []
          },
          "execution_count": 22
        }
      ]
    },
    {
      "cell_type": "code",
      "metadata": {
        "id": "f_0u6YLCMvbM",
        "colab_type": "code",
        "colab": {}
      },
      "source": [
        "neigh = NearestNeighbors(n_neighbors=len(numerical)-1)\n",
        "nbrs = neigh.fit(data_out)\n",
        "distances, indices =nbrs.kneighbors(data_out)"
      ],
      "execution_count": 23,
      "outputs": []
    },
    {
      "cell_type": "code",
      "metadata": {
        "id": "JkbvAxQoMvY6",
        "colab_type": "code",
        "colab": {}
      },
      "source": [
        "distances = distances[:,len(numerical)-2]\n",
        "distances = np.sort(distances,axis=0)"
      ],
      "execution_count": 24,
      "outputs": []
    },
    {
      "cell_type": "code",
      "metadata": {
        "id": "kb31yx-BMvNv",
        "colab_type": "code",
        "colab": {
          "base_uri": "https://localhost:8080/",
          "height": 283
        },
        "outputId": "e138c319-e9ff-4b92-eaf3-bdcda2dbb030"
      },
      "source": [
        "plt.plot(distances)"
      ],
      "execution_count": 25,
      "outputs": [
        {
          "output_type": "execute_result",
          "data": {
            "text/plain": [
              "[<matplotlib.lines.Line2D at 0x7fcad860b780>]"
            ]
          },
          "metadata": {
            "tags": []
          },
          "execution_count": 25
        },
        {
          "output_type": "display_data",
          "data": {
            "image/png": "[encoded data removed]",
            "text/plain": [
              "<Figure size 432x288 with 1 Axes>"
            ]
          },
          "metadata": {
            "tags": [],
            "needs_background": "light"
          }
        }
      ]
    },
    {
      "cell_type": "code",
      "metadata": {
        "id": "4cgv5MPAMu8f",
        "colab_type": "code",
        "colab": {
          "base_uri": "https://localhost:8080/",
          "height": 54
        },
        "outputId": "ac418b13-ee33-4be3-f34c-cdc889a76b0c"
      },
      "source": [
        "outlier_detection = DBSCAN(eps=2.8, min_samples= 12)\n",
        "clustering = outlier_detection.fit(data_out)\n",
        "unique_elements, counts_elements = np.unique(clustering.labels_,return_counts=True)\n",
        "np.asarray((unique_elements,counts_elements))"
      ],
      "execution_count": 28,
      "outputs": [
        {
          "output_type": "execute_result",
          "data": {
            "text/plain": [
              "array([[  -1,    0],\n",
              "       [  16, 6984]])"
            ]
          },
          "metadata": {
            "tags": []
          },
          "execution_count": 28
        }
      ]
    },
    {
      "cell_type": "code",
      "metadata": {
        "id": "OZKj0p9YMu6h",
        "colab_type": "code",
        "colab": {}
      },
      "source": [
        "outlier_indicies= []\n",
        "for i in range(len(clustering.labels_)):\n",
        "  if clustering.labels_[i] == -1:\n",
        "    outlier_indicies.append(i)"
      ],
      "execution_count": 29,
      "outputs": []
    },
    {
      "cell_type": "code",
      "metadata": {
        "id": "jMEpr5QZPJNe",
        "colab_type": "code",
        "colab": {}
      },
      "source": [
        "data_out_ind = set(train_df.index)\n",
        "inliers_indicies = data_out_ind - set(outlier_indicies)"
      ],
      "execution_count": 31,
      "outputs": []
    },
    {
      "cell_type": "code",
      "metadata": {
        "id": "XDD4NknBPJKT",
        "colab_type": "code",
        "colab": {}
      },
      "source": [
        "train_df= train_df.iloc[list(inliers_indicies),:]"
      ],
      "execution_count": 34,
      "outputs": []
    },
    {
      "cell_type": "code",
      "metadata": {
        "id": "kskDHOr2PJBw",
        "colab_type": "code",
        "colab": {}
      },
      "source": [
        ""
      ],
      "execution_count": null,
      "outputs": []
    },
    {
      "cell_type": "code",
      "metadata": {
        "id": "mO4qwNdEPI9d",
        "colab_type": "code",
        "colab": {}
      },
      "source": [
        ""
      ],
      "execution_count": null,
      "outputs": []
    },
    {
      "cell_type": "code",
      "metadata": {
        "id": "4OC4eRJQPI3u",
        "colab_type": "code",
        "colab": {}
      },
      "source": [
        ""
      ],
      "execution_count": null,
      "outputs": []
    },
    {
      "cell_type": "markdown",
      "metadata": {
        "id": "z84YLWL3ioKe",
        "colab_type": "text"
      },
      "source": [
        "## dependent and independent variable"
      ]
    },
    {
      "cell_type": "code",
      "metadata": {
        "id": "vK1E4m2wioKh",
        "colab_type": "code",
        "colab": {}
      },
      "source": [
        "emp_id=train_df[[\"Employee_ID\"]]\n",
        "X=train_df.drop([\"Employee_ID\",\"Attrition_rate\"],axis=1)\n",
        "y=train_df[[\"Attrition_rate\"]]"
      ],
      "execution_count": 62,
      "outputs": []
    },
    {
      "cell_type": "code",
      "metadata": {
        "id": "BWEfYMJkioKr",
        "colab_type": "code",
        "colab": {}
      },
      "source": [
        "dt = DecisionTreeRegressor(max_depth=10,min_samples_leaf=0.15,random_state=3)"
      ],
      "execution_count": 55,
      "outputs": []
    },
    {
      "cell_type": "code",
      "metadata": {
        "id": "k6RdaLuJioMS",
        "colab_type": "code",
        "colab": {}
      },
      "source": [
        "X_train,X_test,y_train,y_test = train_test_split(X,y,test_size=0.2,random_state=3)"
      ],
      "execution_count": 56,
      "outputs": []
    },
    {
      "cell_type": "code",
      "metadata": {
        "id": "kpVC-OXNioMw",
        "colab_type": "code",
        "colab": {
          "base_uri": "https://localhost:8080/",
          "height": 127
        },
        "outputId": "13e733bd-89b3-404a-f804-a895428ed528"
      },
      "source": [
        "dt.fit(X_train,y_train)"
      ],
      "execution_count": 57,
      "outputs": [
        {
          "output_type": "execute_result",
          "data": {
            "text/plain": [
              "DecisionTreeRegressor(ccp_alpha=0.0, criterion='mse', max_depth=10,\n",
              "                      max_features=None, max_leaf_nodes=None,\n",
              "                      min_impurity_decrease=0.0, min_impurity_split=None,\n",
              "                      min_samples_leaf=0.15, min_samples_split=2,\n",
              "                      min_weight_fraction_leaf=0.0, presort='deprecated',\n",
              "                      random_state=3, splitter='best')"
            ]
          },
          "metadata": {
            "tags": []
          },
          "execution_count": 57
        }
      ]
    },
    {
      "cell_type": "code",
      "metadata": {
        "id": "azgnsKUqyqli",
        "colab_type": "code",
        "colab": {}
      },
      "source": [
        "y_pred= dt.predict(X_test)"
      ],
      "execution_count": 58,
      "outputs": []
    },
    {
      "cell_type": "code",
      "metadata": {
        "id": "9B7P33g2zkAY",
        "colab_type": "code",
        "colab": {}
      },
      "source": [
        "mse_dt=MSE(y_test,y_pred)"
      ],
      "execution_count": 59,
      "outputs": []
    },
    {
      "cell_type": "code",
      "metadata": {
        "id": "CJue6gj2zqyD",
        "colab_type": "code",
        "colab": {
          "base_uri": "https://localhost:8080/",
          "height": 35
        },
        "outputId": "0bd8fb6f-72f2-4197-fcfa-a42aae644e5a"
      },
      "source": [
        "rmse_dt = np.sqrt(mse_dt)\n",
        "rmse_dt"
      ],
      "execution_count": 60,
      "outputs": [
        {
          "output_type": "execute_result",
          "data": {
            "text/plain": [
              "0.1829035660339349"
            ]
          },
          "metadata": {
            "tags": []
          },
          "execution_count": 60
        }
      ]
    },
    {
      "cell_type": "code",
      "metadata": {
        "id": "o0M5gNCcQxnX",
        "colab_type": "code",
        "colab": {
          "base_uri": "https://localhost:8080/",
          "height": 35
        },
        "outputId": "133d907e-b5f6-4449-b03a-ec2f8a46f8cd"
      },
      "source": [
        "score = 100* max(0, 1-rmse_dt )\n",
        "score"
      ],
      "execution_count": 61,
      "outputs": [
        {
          "output_type": "execute_result",
          "data": {
            "text/plain": [
              "81.70964339660651"
            ]
          },
          "metadata": {
            "tags": []
          },
          "execution_count": 61
        }
      ]
    },
    {
      "cell_type": "code",
      "metadata": {
        "id": "5E0XhknQ1UWu",
        "colab_type": "code",
        "colab": {}
      },
      "source": [
        "test_df_final = test_df.drop(\"Employee_ID\",axis =1)\n",
        "y_test_pred = dt.predict(test_df_final)"
      ],
      "execution_count": 63,
      "outputs": []
    },
    {
      "cell_type": "code",
      "metadata": {
        "id": "we6dnxWE1nQ8",
        "colab_type": "code",
        "colab": {
          "base_uri": "https://localhost:8080/",
          "height": 54
        },
        "outputId": "4504ffb2-01dc-47ff-d3db-0e225c25b44a"
      },
      "source": [
        "y_test_pred"
      ],
      "execution_count": 64,
      "outputs": [
        {
          "output_type": "execute_result",
          "data": {
            "text/plain": [
              "array([0.1981699 , 0.1981699 , 0.1765125 , ..., 0.1981699 , 0.18007961,\n",
              "       0.20311042])"
            ]
          },
          "metadata": {
            "tags": []
          },
          "execution_count": 64
        }
      ]
    },
    {
      "cell_type": "code",
      "metadata": {
        "id": "iktLnYxG2ZF_",
        "colab_type": "code",
        "colab": {}
      },
      "source": [
        "dd = {\"Employee_ID\":test_df[\"Employee_ID\"], \"Attrition_rate\":y_test_pred}\n",
        "result = pd.DataFrame(dd,index= None)"
      ],
      "execution_count": 66,
      "outputs": []
    },
    {
      "cell_type": "code",
      "metadata": {
        "id": "xIOi2p-E2sQD",
        "colab_type": "code",
        "colab": {
          "base_uri": "https://localhost:8080/",
          "height": 206
        },
        "outputId": "2ffaab63-6de5-4329-ba6e-a32589f5bf91"
      },
      "source": [
        "result.head()"
      ],
      "execution_count": 67,
      "outputs": [
        {
          "output_type": "execute_result",
          "data": {
            "text/html": [
              "<div>\n",
              "<style scoped>\n",
              "    .dataframe tbody tr th:only-of-type {\n",
              "        vertical-align: middle;\n",
              "    }\n",
              "\n",
              "    .dataframe tbody tr th {\n",
              "        vertical-align: top;\n",
              "    }\n",
              "\n",
              "    .dataframe thead th {\n",
              "        text-align: right;\n",
              "    }\n",
              "</style>\n",
              "<table border=\"1\" class=\"dataframe\">\n",
              "  <thead>\n",
              "    <tr style=\"text-align: right;\">\n",
              "      <th></th>\n",
              "      <th>Employee_ID</th>\n",
              "      <th>Attrition_rate</th>\n",
              "    </tr>\n",
              "  </thead>\n",
              "  <tbody>\n",
              "    <tr>\n",
              "      <th>0</th>\n",
              "      <td>EID_22713</td>\n",
              "      <td>0.198170</td>\n",
              "    </tr>\n",
              "    <tr>\n",
              "      <th>1</th>\n",
              "      <td>EID_9658</td>\n",
              "      <td>0.198170</td>\n",
              "    </tr>\n",
              "    <tr>\n",
              "      <th>2</th>\n",
              "      <td>EID_22203</td>\n",
              "      <td>0.176512</td>\n",
              "    </tr>\n",
              "    <tr>\n",
              "      <th>3</th>\n",
              "      <td>EID_7652</td>\n",
              "      <td>0.186339</td>\n",
              "    </tr>\n",
              "    <tr>\n",
              "      <th>4</th>\n",
              "      <td>EID_6516</td>\n",
              "      <td>0.186339</td>\n",
              "    </tr>\n",
              "  </tbody>\n",
              "</table>\n",
              "</div>"
            ],
            "text/plain": [
              "  Employee_ID  Attrition_rate\n",
              "0   EID_22713        0.198170\n",
              "1    EID_9658        0.198170\n",
              "2   EID_22203        0.176512\n",
              "3    EID_7652        0.186339\n",
              "4    EID_6516        0.186339"
            ]
          },
          "metadata": {
            "tags": []
          },
          "execution_count": 67
        }
      ]
    },
    {
      "cell_type": "code",
      "metadata": {
        "id": "zz0lkCkB2yJb",
        "colab_type": "code",
        "colab": {}
      },
      "source": [
        "result.to_csv(\"/content/result.csv\")"
      ],
      "execution_count": 68,
      "outputs": []
    },
    {
      "cell_type": "code",
      "metadata": {
        "id": "JvVdZqhc3CN-",
        "colab_type": "code",
        "colab": {
          "base_uri": "https://localhost:8080/",
          "height": 35
        },
        "outputId": "2c69c6cb-ab3d-40c1-fa10-9cc50931c684"
      },
      "source": [
        "score = 100* max(0, 1-rmse_dt )\n",
        "score"
      ],
      "execution_count": 69,
      "outputs": [
        {
          "output_type": "execute_result",
          "data": {
            "text/plain": [
              "81.70964339660651"
            ]
          },
          "metadata": {
            "tags": []
          },
          "execution_count": 69
        }
      ]
    },
    {
      "cell_type": "code",
      "metadata": {
        "id": "8Rn8gVXa4dQR",
        "colab_type": "code",
        "colab": {}
      },
      "source": [
        ""
      ],
      "execution_count": null,
      "outputs": []
    }
  ]
}